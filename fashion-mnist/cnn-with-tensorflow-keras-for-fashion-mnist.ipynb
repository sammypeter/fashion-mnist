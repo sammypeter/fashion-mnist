{
 "cells": [
  {
   "cell_type": "markdown",
   "metadata": {
    "_uuid": "1b1c16628c2f62a18e1dc2068e1d67d7003922b1"
   },
   "source": [
    "# <a id=\"1\">Introduction</a>  \n",
    "\n",
    "\n",
    "## Dataset\n",
    "\n",
    "Fashion-MNIST is a dataset of Zalando's article images—consisting of a training set of 60,000 examples and a test set of 10,000 examples. Each example is a 28x28 grayscale image, associated with a label from 10 classes. Zalando intends Fashion-MNIST to serve as a direct drop-in replacement for the original MNIST dataset for benchmarking machine learning algorithms. It shares the same image size and structure of training and testing splits.\n",
    "\n",
    "\n",
    "## Content\n",
    "\n",
    "Each image is 28 pixels in height and 28 pixels in width, for a total of 784 pixels in total.   \n",
    "\n",
    "Each pixel has a single pixel-value associated with it, indicating the lightness or darkness of that pixel, with higher numbers meaning darker. This pixel-value is an integer between 0 and 255.   \n",
    "\n",
    "The training and test data sets have 785 columns.   \n",
    "\n",
    "The first column consists of the class labels (see above), and represents the article of clothing. \n",
    "\n",
    "The rest of 784 columns (1-785) contain the pixel-values of the associated image."
   ]
  },
  {
   "cell_type": "markdown",
   "metadata": {
    "_uuid": "5a708dc52b2e5990e2247ed573d50d0f6933b730"
   },
   "source": [
    "# <a id=\"2\">Load packages</a>"
   ]
  },
  {
   "cell_type": "code",
   "execution_count": 1,
   "metadata": {
    "_uuid": "2defa674e4e6d0e7371df92e7d1f388fc5c14bb6",
    "execution": {
     "iopub.execute_input": "2021-06-26T10:26:50.565597Z",
     "iopub.status.busy": "2021-06-26T10:26:50.565303Z",
     "iopub.status.idle": "2021-06-26T10:26:53.758002Z",
     "shell.execute_reply": "2021-06-26T10:26:53.757137Z",
     "shell.execute_reply.started": "2021-06-26T10:26:50.565546Z"
    }
   },
   "outputs": [
    {
     "name": "stderr",
     "output_type": "stream",
     "text": [
      "Using TensorFlow backend.\n"
     ]
    },
    {
     "data": {
      "text/html": [
       "<script>requirejs.config({paths: { 'plotly': ['https://cdn.plot.ly/plotly-latest.min']},});if(!window.Plotly) {{require(['plotly'],function(plotly) {window.Plotly=plotly;});}}</script>"
      ],
      "text/vnd.plotly.v1+html": [
       "<script>requirejs.config({paths: { 'plotly': ['https://cdn.plot.ly/plotly-latest.min']},});if(!window.Plotly) {{require(['plotly'],function(plotly) {window.Plotly=plotly;});}}</script>"
      ]
     },
     "metadata": {},
     "output_type": "display_data"
    }
   ],
   "source": [
    "import numpy as np\n",
    "import pandas as pd\n",
    "from sklearn.model_selection import train_test_split\n",
    "from sklearn.metrics import classification_report\n",
    "from tensorflow.python import keras\n",
    "from tensorflow.python.keras.models import Sequential\n",
    "from tensorflow.python.keras.layers import Dense, Flatten, Conv2D, Dropout, MaxPooling2D\n",
    "from IPython.display import SVG\n",
    "from keras.utils.vis_utils import model_to_dot\n",
    "from keras.utils import plot_model\n",
    "import seaborn as sns\n",
    "import matplotlib.pyplot as plt\n",
    "%matplotlib inline \n",
    "import plotly.graph_objs as go\n",
    "import plotly.figure_factory as ff\n",
    "from plotly import tools\n",
    "from plotly.offline import download_plotlyjs, init_notebook_mode, plot, iplot\n",
    "init_notebook_mode(connected=True)"
   ]
  },
  {
   "cell_type": "markdown",
   "metadata": {
    "_uuid": "e17fd2539412442ddb3ecacf84366ddd62faf836"
   },
   "source": [
    "## Parameters"
   ]
  },
  {
   "cell_type": "code",
   "execution_count": 2,
   "metadata": {
    "_uuid": "d7a44bfc7a28df7026241c4a7e047298446f1554"
   },
   "outputs": [
    {
     "name": "stdout",
     "output_type": "stream",
     "text": [
      "['t10k-labels-idx1-ubyte', 't10k-images-idx3-ubyte', 'fashion-mnist_test.csv', 'fashion-mnist_train.csv', 'train-labels-idx1-ubyte', 'train-images-idx3-ubyte']\n"
     ]
    }
   ],
   "source": [
    "IMG_ROWS = 28\n",
    "IMG_COLS = 28\n",
    "NUM_CLASSES = 10\n",
    "TEST_SIZE = 0.2\n",
    "RANDOM_STATE = 2018\n",
    "#Model\n",
    "NO_EPOCHS = 50\n",
    "BATCH_SIZE = 128\n",
    "\n",
    "IS_LOCAL = False\n",
    "\n",
    "import os\n",
    "\n",
    "if(IS_LOCAL):\n",
    "    PATH=\"../input/fashionmnist/\"\n",
    "else:\n",
    "    PATH=\"../input/\"\n",
    "print(os.listdir(PATH))"
   ]
  },
  {
   "cell_type": "markdown",
   "metadata": {
    "_uuid": "f49d65b4af77e87ab34b6854850619911cff1e6d"
   },
   "source": [
    "# <a id=\"3\">Read the data</a>\n",
    "\n",
    "There are 10 different classes of images, as following: \n",
    "\n",
    "* **0**: **T-shirt/top**;   \n",
    "* **1**: **Trouser**;   \n",
    "* **2**: **Pullover**;   \n",
    "* **3**: **Dress**;\n",
    "* **4**: **Coat**;\n",
    "* **5**: **Sandal**;\n",
    "* **6**: **Shirt**;\n",
    "* **7**: **Sneaker**;\n",
    "* **8**: **Bag**;\n",
    "* **9**: **Ankle boot**.\n",
    "\n",
    "Image dimmensions are **28**x**28**.   \n",
    "\n",
    "The train set and test set are given in two separate datasets.\n"
   ]
  },
  {
   "cell_type": "code",
   "execution_count": 3,
   "metadata": {
    "_uuid": "a9c3148fda056ecc88570b302f5185064d5e9fc8"
   },
   "outputs": [],
   "source": [
    "train_file = PATH+\"fashion-mnist_train.csv\"\n",
    "test_file  = PATH+\"fashion-mnist_test.csv\"\n",
    "\n",
    "train_data = pd.read_csv(train_file)\n",
    "test_data = pd.read_csv(test_file)"
   ]
  },
  {
   "cell_type": "markdown",
   "metadata": {
    "_uuid": "290f8f38b2f64dfd1bd3432eb1e9a101dbbaf4e5"
   },
   "source": [
    "# <a id=\"4\">Data exploration</a>"
   ]
  },
  {
   "cell_type": "markdown",
   "metadata": {
    "_uuid": "e8891ae7996aa2ae5bc1c025661a77ae91c2fdfb"
   },
   "source": [
    "![](http://)The dimmension of the original  train,  test set are as following:"
   ]
  },
  {
   "cell_type": "code",
   "execution_count": 4,
   "metadata": {
    "_uuid": "a133496cefc53baa56b9a5eec93bfd064ea6360d"
   },
   "outputs": [
    {
     "name": "stdout",
     "output_type": "stream",
     "text": [
      "Fashion MNIST train -  rows: 60000  columns: 785\n",
      "Fashion MNIST test -  rows: 10000  columns: 785\n"
     ]
    }
   ],
   "source": [
    "print(\"Fashion MNIST train -  rows:\",train_data.shape[0],\" columns:\", train_data.shape[1])\n",
    "print(\"Fashion MNIST test -  rows:\",test_data.shape[0],\" columns:\", test_data.shape[1])"
   ]
  },
  {
   "cell_type": "markdown",
   "metadata": {
    "_uuid": "dc317fbf40c9b2838f8091e745a64e060a7affc0"
   },
   "source": [
    "## <a id=\"41\">Class distribution</a>\n",
    "\n",
    "Let's see how many number of images are in each class. We start with the train set.\n",
    "\n",
    "### Train set images class distribution"
   ]
  },
  {
   "cell_type": "code",
   "execution_count": 5,
   "metadata": {
    "_uuid": "da948eb587daf81160a4794a36662f8872c882a4"
   },
   "outputs": [
    {
     "name": "stdout",
     "output_type": "stream",
     "text": [
      "Ankle Boot          :   6000 or 10.0%\n",
      "Bag                 :   6000 or 10.0%\n",
      "Sneaker             :   6000 or 10.0%\n",
      "Shirt               :   6000 or 10.0%\n",
      "Sandal              :   6000 or 10.0%\n",
      "Coat                :   6000 or 10.0%\n",
      "Dress               :   6000 or 10.0%\n",
      "Pullover            :   6000 or 10.0%\n",
      "Trouser             :   6000 or 10.0%\n",
      "T-shirt/top         :   6000 or 10.0%\n"
     ]
    }
   ],
   "source": [
    "# Create a dictionary for each type of label \n",
    "labels = {0 : \"T-shirt/top\", 1: \"Trouser\", 2: \"Pullover\", 3: \"Dress\", 4: \"Coat\",\n",
    "          5: \"Sandal\", 6: \"Shirt\", 7: \"Sneaker\", 8: \"Bag\", 9: \"Ankle Boot\"}\n",
    "\n",
    "def get_classes_distribution(data):\n",
    "    # Get the count for each label\n",
    "    label_counts = data[\"label\"].value_counts()\n",
    "\n",
    "    # Get total number of samples\n",
    "    total_samples = len(data)\n",
    "\n",
    "\n",
    "    # Count the number of items in each class\n",
    "    for i in range(len(label_counts)):\n",
    "        label = labels[label_counts.index[i]]\n",
    "        count = label_counts.values[i]\n",
    "        percent = (count / total_samples) * 100\n",
    "        print(\"{:<20s}:   {} or {}%\".format(label, count, percent))\n",
    "\n",
    "get_classes_distribution(train_data)"
   ]
  },
  {
   "cell_type": "markdown",
   "metadata": {
    "_uuid": "fc41d889d3ad6352994cdf8a76a78ed0d22ec141"
   },
   "source": [
    "The classes are equaly distributed in the train set (10% each). Let's check the same for the test set.    \n",
    "Let's also plot the class distribution.\n",
    "\n"
   ]
  },
  {
   "cell_type": "code",
   "execution_count": 6,
   "metadata": {
    "_uuid": "7ac8f6fde6bd78553f08469093cebc0e124a5210"
   },
   "outputs": [
    {
     "data": {
      "image/png": "[encoded data removed]",
      "text/plain": [
       "<Figure size 864x288 with 1 Axes>"
      ]
     },
     "metadata": {
      "needs_background": "light"
     },
     "output_type": "display_data"
    }
   ],
   "source": [
    "def plot_label_per_class(data):\n",
    "    f, ax = plt.subplots(1,1, figsize=(12,4))\n",
    "    g = sns.countplot(data.label, order = data[\"label\"].value_counts().index)\n",
    "    g.set_title(\"Number of labels for each class\")\n",
    "\n",
    "    for p, label in zip(g.patches, data[\"label\"].value_counts().index):\n",
    "        g.annotate(labels[label], (p.get_x(), p.get_height()+0.1))\n",
    "    plt.show()  \n",
    "    \n",
    "plot_label_per_class(train_data)"
   ]
  },
  {
   "cell_type": "markdown",
   "metadata": {
    "_uuid": "f7c3328ce859d1809ce916bba73bc57b2d580963"
   },
   "source": [
    "### Test set images class distribution"
   ]
  },
  {
   "cell_type": "code",
   "execution_count": 7,
   "metadata": {
    "_uuid": "2581093ff1268ae9487fe83b383c2d4be4657000"
   },
   "outputs": [
    {
     "name": "stdout",
     "output_type": "stream",
     "text": [
      "Sneaker             :   1000 or 10.0%\n",
      "Shirt               :   1000 or 10.0%\n",
      "Sandal              :   1000 or 10.0%\n",
      "Coat                :   1000 or 10.0%\n",
      "Dress               :   1000 or 10.0%\n",
      "Pullover            :   1000 or 10.0%\n",
      "Ankle Boot          :   1000 or 10.0%\n",
      "Trouser             :   1000 or 10.0%\n",
      "Bag                 :   1000 or 10.0%\n",
      "T-shirt/top         :   1000 or 10.0%\n"
     ]
    }
   ],
   "source": [
    "get_classes_distribution(test_data)"
   ]
  },
  {
   "cell_type": "markdown",
   "metadata": {
    "_uuid": "fffa6f5248eb037b47a84e1e1ee889ee3470a1d4"
   },
   "source": [
    "Also in the test set the 10 classes are equaly distributed (10% each).  \n",
    "\n",
    "Lets' also plot the class distribution."
   ]
  },
  {
   "cell_type": "code",
   "execution_count": 8,
   "metadata": {
    "_uuid": "7d770b2cde8f32b83a67da02eeacd17f01904ddd"
   },
   "outputs": [
    {
     "data": {
      "image/png": "[encoded data removed]",
      "text/plain": [
       "<Figure size 864x288 with 1 Axes>"
      ]
     },
     "metadata": {
      "needs_background": "light"
     },
     "output_type": "display_data"
    }
   ],
   "source": [
    "plot_label_per_class(test_data)"
   ]
  },
  {
   "cell_type": "markdown",
   "metadata": {
    "_uuid": "588beb3c38b5f5a0b41ca0699426a1477efb8412"
   },
   "source": [
    "## <a id=\"42\">Sample images</a>\n",
    "\n",
    "### Train set images\n",
    "\n",
    "Let's plot some samples for the images.   \n",
    "We add labels to the train set images, with the corresponding fashion item category.  "
   ]
  },
  {
   "cell_type": "code",
   "execution_count": 9,
   "metadata": {
    "_uuid": "62fd41c12740f184ec160d692b3289d4457297d6"
   },
   "outputs": [
    {
     "name": "stdout",
     "output_type": "stream",
     "text": [
      "Total number of sample images to plot:  40\n"
     ]
    }
   ],
   "source": [
    "def sample_images_data(data):\n",
    "    # An empty list to collect some samples\n",
    "    sample_images = []\n",
    "    sample_labels = []\n",
    "\n",
    "    # Iterate over the keys of the labels dictionary defined in the above cell\n",
    "    for k in labels.keys():\n",
    "        # Get four samples for each category\n",
    "        samples = data[data[\"label\"] == k].head(4)\n",
    "        # Append the samples to the samples list\n",
    "        for j, s in enumerate(samples.values):\n",
    "            # First column contain labels, hence index should start from 1\n",
    "            img = np.array(samples.iloc[j, 1:]).reshape(IMG_ROWS,IMG_COLS)\n",
    "            sample_images.append(img)\n",
    "            sample_labels.append(samples.iloc[j, 0])\n",
    "\n",
    "    print(\"Total number of sample images to plot: \", len(sample_images))\n",
    "    return sample_images, sample_labels\n",
    "\n",
    "train_sample_images, train_sample_labels = sample_images_data(train_data)"
   ]
  },
  {
   "cell_type": "markdown",
   "metadata": {
    "_uuid": "e5c80cef30985bb5ab0ee48d4fc9891660c2a92f"
   },
   "source": [
    "Let's now plot the images.   \n",
    "The labels are shown above each image."
   ]
  },
  {
   "cell_type": "code",
   "execution_count": 10,
   "metadata": {
    "_uuid": "4f4f27f5143bdd834302a2c43cdb1d68d2a131a9"
   },
   "outputs": [
    {
     "data": {
      "image/png": "[encoded data removed]",
      "text/plain": [
       "<Figure size 1152x720 with 40 Axes>"
      ]
     },
     "metadata": {
      "needs_background": "light"
     },
     "output_type": "display_data"
    }
   ],
   "source": [
    "def plot_sample_images(data_sample_images,data_sample_labels,cmap=\"Blues\"):\n",
    "    # Plot the sample images now\n",
    "    f, ax = plt.subplots(5,8, figsize=(16,10))\n",
    "\n",
    "    for i, img in enumerate(data_sample_images):\n",
    "        ax[i//8, i%8].imshow(img, cmap=cmap)\n",
    "        ax[i//8, i%8].axis('off')\n",
    "        ax[i//8, i%8].set_title(labels[data_sample_labels[i]])\n",
    "    plt.show()    \n",
    "    \n",
    "plot_sample_images(train_sample_images,train_sample_labels, \"Greens\")"
   ]
  },
  {
   "cell_type": "markdown",
   "metadata": {
    "_uuid": "bd30352b2674a20eca5e792d7c186cdcbab25461"
   },
   "source": [
    "### Test set images\n",
    "\n",
    "Let's plot now a selection of the test set images.  \n",
    "Labels are as well added (they are known).  "
   ]
  },
  {
   "cell_type": "code",
   "execution_count": 11,
   "metadata": {
    "_uuid": "616df96bfae0e8065c206e6dfec2847d5d42125d"
   },
   "outputs": [
    {
     "name": "stdout",
     "output_type": "stream",
     "text": [
      "Total number of sample images to plot:  40\n"
     ]
    },
    {
     "data": {
      "image/png": "[encoded data removed]",
      "text/plain": [
       "<Figure size 1152x720 with 40 Axes>"
      ]
     },
     "metadata": {
      "needs_background": "light"
     },
     "output_type": "display_data"
    }
   ],
   "source": [
    "test_sample_images, test_sample_labels = sample_images_data(test_data)\n",
    "plot_sample_images(test_sample_images,test_sample_labels)"
   ]
  },
  {
   "cell_type": "markdown",
   "metadata": {
    "_uuid": "273c79c7470c49fe7a546dd7148e0536be2dee19"
   },
   "source": [
    "# <a id=\"5\">Model</a>\n",
    "\n",
    "We start with preparing the model."
   ]
  },
  {
   "cell_type": "markdown",
   "metadata": {
    "_uuid": "10b920b2ffc5de4a3ddebe494966d90cca91ee95"
   },
   "source": [
    "## <a id=\"51\">Prepare the model</a>\n",
    "\n",
    "## Data preprocessing\n",
    "\n",
    "First we will do a data preprocessing to prepare for the model.\n",
    "\n",
    "We reshape the columns  from (784) to (28,28,1). We also save label (target) feature as a separate vector."
   ]
  },
  {
   "cell_type": "code",
   "execution_count": 12,
   "metadata": {
    "_uuid": "db4c308b9fb334a54b4c055b00d2a1fbcf77ab96"
   },
   "outputs": [],
   "source": [
    "# data preprocessing\n",
    "def data_preprocessing(raw):\n",
    "    out_y = keras.utils.to_categorical(raw.label, NUM_CLASSES)\n",
    "    num_images = raw.shape[0]\n",
    "    x_as_array = raw.values[:,1:]\n",
    "    x_shaped_array = x_as_array.reshape(num_images, IMG_ROWS, IMG_COLS, 1)\n",
    "    out_x = x_shaped_array / 255\n",
    "    return out_x, out_y"
   ]
  },
  {
   "cell_type": "markdown",
   "metadata": {
    "_uuid": "2d3cafa55173d40cd9a42df63d4919f03b264c09"
   },
   "source": [
    "We process both the train_data and the test_data"
   ]
  },
  {
   "cell_type": "code",
   "execution_count": 13,
   "metadata": {
    "_uuid": "454d7a8fdca4bdbefc04a9d796de04b6af4a1767"
   },
   "outputs": [],
   "source": [
    "# prepare the data\n",
    "X, y = data_preprocessing(train_data)\n",
    "X_test, y_test = data_preprocessing(test_data)"
   ]
  },
  {
   "cell_type": "markdown",
   "metadata": {
    "_uuid": "8e25c569f0a0e817ca0462f3e3ea2f50feb480b0"
   },
   "source": [
    "## Split train in train and validation set\n",
    "\n",
    "We further split the train set in train and validation set. The validation set will be 20% from the original train set, therefore the split will be train/validation of 0.8/0.2."
   ]
  },
  {
   "cell_type": "code",
   "execution_count": 14,
   "metadata": {
    "_uuid": "36eb910dd0868a227a73c9759d6aee0a47ba2b1e"
   },
   "outputs": [],
   "source": [
    "X_train, X_val, y_train, y_val = train_test_split(X, y, test_size=TEST_SIZE, random_state=RANDOM_STATE)"
   ]
  },
  {
   "cell_type": "markdown",
   "metadata": {
    "_uuid": "1e623ca7c0c61634c0e4b890fc5cf5cacb132552"
   },
   "source": [
    "The dimmension of the processed train, validation and test set are as following:"
   ]
  },
  {
   "cell_type": "code",
   "execution_count": 15,
   "metadata": {
    "_uuid": "98b3f1bf07e8ed614bf32b8e1955cbe90bff21c5"
   },
   "outputs": [
    {
     "name": "stdout",
     "output_type": "stream",
     "text": [
      "Fashion MNIST train -  rows: 48000  columns: (28, 28, 1)\n",
      "Fashion MNIST valid -  rows: 12000  columns: (28, 28, 1)\n",
      "Fashion MNIST test -  rows: 10000  columns: (28, 28, 1)\n"
     ]
    }
   ],
   "source": [
    "print(\"Fashion MNIST train -  rows:\",X_train.shape[0],\" columns:\", X_train.shape[1:4])\n",
    "print(\"Fashion MNIST valid -  rows:\",X_val.shape[0],\" columns:\", X_val.shape[1:4])\n",
    "print(\"Fashion MNIST test -  rows:\",X_test.shape[0],\" columns:\", X_test.shape[1:4])"
   ]
  },
  {
   "cell_type": "markdown",
   "metadata": {
    "_uuid": "5bc44b14e07efcd3dda90deaac6884b07285b484"
   },
   "source": [
    "Let's check the class inbalance for the rsulted training set."
   ]
  },
  {
   "cell_type": "code",
   "execution_count": 16,
   "metadata": {
    "_uuid": "a8c4e101cbbe68984f525e00afa8c7b7d8cc2215"
   },
   "outputs": [
    {
     "data": {
      "image/png": "[encoded data removed]",
      "text/plain": [
       "<Figure size 864x288 with 1 Axes>"
      ]
     },
     "metadata": {
      "needs_background": "light"
     },
     "output_type": "display_data"
    },
    {
     "name": "stdout",
     "output_type": "stream",
     "text": [
      "Dress               :   4891 or 10.189583333333333%\n",
      "Sandal              :   4855 or 10.114583333333334%\n",
      "Pullover            :   4836 or 10.075000000000001%\n",
      "Ankle Boot          :   4827 or 10.05625%\n",
      "Sneaker             :   4798 or 9.995833333333334%\n",
      "Coat                :   4796 or 9.991666666666667%\n",
      "Shirt               :   4779 or 9.95625%\n",
      "Bag                 :   4757 or 9.910416666666666%\n",
      "Trouser             :   4745 or 9.885416666666668%\n",
      "T-shirt/top         :   4716 or 9.825000000000001%\n"
     ]
    }
   ],
   "source": [
    "def plot_count_per_class(yd):\n",
    "    ydf = pd.DataFrame(yd)\n",
    "    f, ax = plt.subplots(1,1, figsize=(12,4))\n",
    "    g = sns.countplot(ydf[0], order = np.arange(0,10))\n",
    "    g.set_title(\"Number of items for each class\")\n",
    "    g.set_xlabel(\"Category\")\n",
    "    \n",
    "    for p, label in zip(g.patches, np.arange(0,10)):\n",
    "        g.annotate(labels[label], (p.get_x(), p.get_height()+0.1))\n",
    "        \n",
    "    plt.show()  \n",
    "\n",
    "def get_count_per_class(yd):\n",
    "    ydf = pd.DataFrame(yd)\n",
    "    # Get the count for each label\n",
    "    label_counts = ydf[0].value_counts()\n",
    "\n",
    "    # Get total number of samples\n",
    "    total_samples = len(yd)\n",
    "\n",
    "\n",
    "    # Count the number of items in each class\n",
    "    for i in range(len(label_counts)):\n",
    "        label = labels[label_counts.index[i]]\n",
    "        count = label_counts.values[i]\n",
    "        percent = (count / total_samples) * 100\n",
    "        print(\"{:<20s}:   {} or {}%\".format(label, count, percent))\n",
    "    \n",
    "plot_count_per_class(np.argmax(y_train,axis=1))\n",
    "get_count_per_class(np.argmax(y_train,axis=1))"
   ]
  },
  {
   "cell_type": "markdown",
   "metadata": {
    "_uuid": "07bfe3d5d50b985788a28e546473fd885d96dcef"
   },
   "source": [
    "And, as well, for the validation set."
   ]
  },
  {
   "cell_type": "code",
   "execution_count": 17,
   "metadata": {
    "_uuid": "af3b3d31c42637235bc07b700db121e37e156afc"
   },
   "outputs": [
    {
     "data": {
      "image/png": "[encoded data removed]",
      "text/plain": [
       "<Figure size 864x288 with 1 Axes>"
      ]
     },
     "metadata": {
      "needs_background": "light"
     },
     "output_type": "display_data"
    },
    {
     "name": "stdout",
     "output_type": "stream",
     "text": [
      "T-shirt/top         :   1284 or 10.7%\n",
      "Trouser             :   1255 or 10.458333333333334%\n",
      "Bag                 :   1243 or 10.358333333333333%\n",
      "Shirt               :   1221 or 10.174999999999999%\n",
      "Coat                :   1204 or 10.033333333333333%\n",
      "Sneaker             :   1202 or 10.016666666666667%\n",
      "Ankle Boot          :   1173 or 9.775%\n",
      "Pullover            :   1164 or 9.700000000000001%\n",
      "Sandal              :   1145 or 9.541666666666666%\n",
      "Dress               :   1109 or 9.241666666666665%\n"
     ]
    }
   ],
   "source": [
    "plot_count_per_class(np.argmax(y_val,axis=1))\n",
    "get_count_per_class(np.argmax(y_val,axis=1))"
   ]
  },
  {
   "cell_type": "markdown",
   "metadata": {
    "_uuid": "315162ff857021131d4ac6739bda800acc5c6c4b"
   },
   "source": [
    "Both the train and validation set are unbalanced with respect of distribution of classes. "
   ]
  },
  {
   "cell_type": "markdown",
   "metadata": {
    "_uuid": "dd9405b5a3fe0c7bd5bebe0616190a8cf26d2811"
   },
   "source": [
    "## <a id=\"52\">Train the model</a>\n",
    "\n",
    "### Build the model   \n",
    "\n",
    "\n",
    "\n",
    "We will use a **Sequential** model.\n",
    "* The **Sequential** model is a linear stack of layers. It can be first initialized and then we add layers using **add** method or we can add all layers at init stage. The layers added are as follows:\n",
    "\n",
    "* **Conv2D** is a 2D Convolutional layer (i.e. spatial convolution over images). The parameters used are:\n",
    " * filters - the number of filters (Kernels) used with this layer; here filters = 32;\n",
    " * kernel_size - the dimmension of the Kernel: (3 x 3);\n",
    " * activation - is the activation function used, in this case `relu`;\n",
    " * kernel_initializer - the function used for initializing the kernel;\n",
    " * input_shape - is the shape of the image presented to the CNN: in our case is 28 x 28\n",
    " The input and output of the **Conv2D** is a 4D tensor.\n",
    " \n",
    "* **MaxPooling2D** is a Max pooling operation for spatial data. Parameters used here are:\n",
    " * *pool_size*, in this case (2,2), representing the factors by which to downscale in both directions;\n",
    " \n",
    " * **Conv2D** with the following parameters:\n",
    " * filters: 64;\n",
    " * kernel_size : (3 x 3);\n",
    " * activation : `relu`;\n",
    " \n",
    "* **MaxPooling2D** with parameter:\n",
    " * *pool_size* : (2,2);\n",
    "\n",
    "* **Conv2D** with the following parameters:\n",
    " * filters: 128;\n",
    " * kernel_size : (3 x 3);\n",
    " * activation : `relu`;\n",
    " \n",
    "* **Flatten**. This layer Flattens the input. Does not affect the batch size. It is used without parameters;\n",
    "\n",
    "* **Dense**. This layer is a regular fully-connected NN layer. It is used without parameters;\n",
    " * units - this is a positive integer, with the meaning: dimensionality of the output space; in this case is: 128;\n",
    " * activation - activation function : `relu`;\n",
    " \n",
    "* **Dense**. This is the final layer (fully connected). It is used with the parameters:\n",
    " * units: the number of classes (in our case 10);\n",
    " * activation : `softmax`; for this final layer it is used `softmax` activation (standard for multiclass classification)\n",
    " \n",
    "\n",
    "Then we compile the model, specifying as well the following parameters:\n",
    "* *loss*;\n",
    "* *optimizer*;\n",
    "* *metrics*. \n"
   ]
  },
  {
   "cell_type": "code",
   "execution_count": 18,
   "metadata": {
    "_uuid": "e31836cd5ec9d86340485404b8f613d1f574aca4"
   },
   "outputs": [],
   "source": [
    "# Model\n",
    "model = Sequential()\n",
    "# Add convolution 2D\n",
    "model.add(Conv2D(32, kernel_size=(3, 3),\n",
    "                 activation='relu',\n",
    "                 kernel_initializer='he_normal',\n",
    "                 input_shape=(IMG_ROWS, IMG_COLS, 1)))\n",
    "model.add(MaxPooling2D((2, 2)))\n",
    "model.add(Conv2D(64, \n",
    "                 kernel_size=(3, 3), \n",
    "                 activation='relu'))\n",
    "model.add(MaxPooling2D(pool_size=(2, 2)))\n",
    "model.add(Conv2D(128, (3, 3), activation='relu'))\n",
    "model.add(Flatten())\n",
    "model.add(Dense(128, activation='relu'))\n",
    "model.add(Dense(NUM_CLASSES, activation='softmax'))\n",
    "\n",
    "\n",
    "model.compile(loss=keras.losses.categorical_crossentropy,\n",
    "              optimizer='adam',\n",
    "              metrics=['accuracy'])"
   ]
  },
  {
   "cell_type": "markdown",
   "metadata": {
    "_uuid": "ecb450d70539a62fb310bb7ed44849d2d01481ee"
   },
   "source": [
    "### Inspect the model\n",
    "\n",
    "Let's check the model we initialized."
   ]
  },
  {
   "cell_type": "code",
   "execution_count": 19,
   "metadata": {
    "_uuid": "b4b923b11ceaf4a97677f8e24265e3e97ae1653b",
    "scrolled": true
   },
   "outputs": [
    {
     "name": "stdout",
     "output_type": "stream",
     "text": [
      "_________________________________________________________________\n",
      "Layer (type)                 Output Shape              Param #   \n",
      "=================================================================\n",
      "conv2d (Conv2D)              (None, 26, 26, 32)        320       \n",
      "_________________________________________________________________\n",
      "max_pooling2d (MaxPooling2D) (None, 13, 13, 32)        0         \n",
      "_________________________________________________________________\n",
      "conv2d_1 (Conv2D)            (None, 11, 11, 64)        18496     \n",
      "_________________________________________________________________\n",
      "max_pooling2d_1 (MaxPooling2 (None, 5, 5, 64)          0         \n",
      "_________________________________________________________________\n",
      "conv2d_2 (Conv2D)            (None, 3, 3, 128)         73856     \n",
      "_________________________________________________________________\n",
      "flatten (Flatten)            (None, 1152)              0         \n",
      "_________________________________________________________________\n",
      "dense (Dense)                (None, 128)               147584    \n",
      "_________________________________________________________________\n",
      "dense_1 (Dense)              (None, 10)                1290      \n",
      "=================================================================\n",
      "Total params: 241,546\n",
      "Trainable params: 241,546\n",
      "Non-trainable params: 0\n",
      "_________________________________________________________________\n"
     ]
    }
   ],
   "source": [
    "model.summary()"
   ]
  },
  {
   "cell_type": "markdown",
   "metadata": {
    "_uuid": "47062fcbe61fdc131bdc369428415c483167d046"
   },
   "source": [
    "Let's also plot the model"
   ]
  },
  {
   "cell_type": "code",
   "execution_count": 20,
   "metadata": {
    "_uuid": "a9863ccbdc1a3f9d03fc6f3dbbd3f2713995d03e"
   },
   "outputs": [
    {
     "data": {
      "image/svg+xml": [
       "<svg height=\"629pt\" viewBox=\"0.00 0.00 215.00 629.00\" width=\"215pt\" xmlns=\"http://www.w3.org/2000/svg\" xmlns:xlink=\"http://www.w3.org/1999/xlink\">\n",
       "<g class=\"graph\" id=\"graph0\" transform=\"scale(1 1) rotate(0) translate(4 625)\">\n",
       "<title>G</title>\n",
       "<polygon fill=\"white\" points=\"-4,4 -4,-625 211,-625 211,4 -4,4\" stroke=\"none\"/>\n",
       "<!-- 140064143293576 -->\n",
       "<g class=\"node\" id=\"node1\"><title>140064143293576</title>\n",
       "<polygon fill=\"none\" points=\"48.5,-511.5 48.5,-547.5 158.5,-547.5 158.5,-511.5 48.5,-511.5\" stroke=\"black\"/>\n",
       "<text font-family=\"Times,serif\" font-size=\"14.00\" text-anchor=\"middle\" x=\"103.5\" y=\"-525.8\">conv2d: Conv2D</text>\n",
       "</g>\n",
       "<!-- 140064143290664 -->\n",
       "<g class=\"node\" id=\"node2\"><title>140064143290664</title>\n",
       "<polygon fill=\"none\" points=\"6.5,-438.5 6.5,-474.5 200.5,-474.5 200.5,-438.5 6.5,-438.5\" stroke=\"black\"/>\n",
       "<text font-family=\"Times,serif\" font-size=\"14.00\" text-anchor=\"middle\" x=\"103.5\" y=\"-452.8\">max_pooling2d: MaxPooling2D</text>\n",
       "</g>\n",
       "<!-- 140064143293576&#45;&gt;140064143290664 -->\n",
       "<g class=\"edge\" id=\"edge2\"><title>140064143293576-&gt;140064143290664</title>\n",
       "<path d=\"M103.5,-511.313C103.5,-503.289 103.5,-493.547 103.5,-484.569\" fill=\"none\" stroke=\"black\"/>\n",
       "<polygon fill=\"black\" points=\"107,-484.529 103.5,-474.529 100,-484.529 107,-484.529\" stroke=\"black\"/>\n",
       "</g>\n",
       "<!-- 140064143661712 -->\n",
       "<g class=\"node\" id=\"node3\"><title>140064143661712</title>\n",
       "<polygon fill=\"none\" points=\"42,-365.5 42,-401.5 165,-401.5 165,-365.5 42,-365.5\" stroke=\"black\"/>\n",
       "<text font-family=\"Times,serif\" font-size=\"14.00\" text-anchor=\"middle\" x=\"103.5\" y=\"-379.8\">conv2d_1: Conv2D</text>\n",
       "</g>\n",
       "<!-- 140064143290664&#45;&gt;140064143661712 -->\n",
       "<g class=\"edge\" id=\"edge3\"><title>140064143290664-&gt;140064143661712</title>\n",
       "<path d=\"M103.5,-438.313C103.5,-430.289 103.5,-420.547 103.5,-411.569\" fill=\"none\" stroke=\"black\"/>\n",
       "<polygon fill=\"black\" points=\"107,-411.529 103.5,-401.529 100,-411.529 107,-411.529\" stroke=\"black\"/>\n",
       "</g>\n",
       "<!-- 140064143031992 -->\n",
       "<g class=\"node\" id=\"node4\"><title>140064143031992</title>\n",
       "<polygon fill=\"none\" points=\"0,-292.5 0,-328.5 207,-328.5 207,-292.5 0,-292.5\" stroke=\"black\"/>\n",
       "<text font-family=\"Times,serif\" font-size=\"14.00\" text-anchor=\"middle\" x=\"103.5\" y=\"-306.8\">max_pooling2d_1: MaxPooling2D</text>\n",
       "</g>\n",
       "<!-- 140064143661712&#45;&gt;140064143031992 -->\n",
       "<g class=\"edge\" id=\"edge4\"><title>140064143661712-&gt;140064143031992</title>\n",
       "<path d=\"M103.5,-365.313C103.5,-357.289 103.5,-347.547 103.5,-338.569\" fill=\"none\" stroke=\"black\"/>\n",
       "<polygon fill=\"black\" points=\"107,-338.529 103.5,-328.529 100,-338.529 107,-338.529\" stroke=\"black\"/>\n",
       "</g>\n",
       "<!-- 140064142840944 -->\n",
       "<g class=\"node\" id=\"node5\"><title>140064142840944</title>\n",
       "<polygon fill=\"none\" points=\"42,-219.5 42,-255.5 165,-255.5 165,-219.5 42,-219.5\" stroke=\"black\"/>\n",
       "<text font-family=\"Times,serif\" font-size=\"14.00\" text-anchor=\"middle\" x=\"103.5\" y=\"-233.8\">conv2d_2: Conv2D</text>\n",
       "</g>\n",
       "<!-- 140064143031992&#45;&gt;140064142840944 -->\n",
       "<g class=\"edge\" id=\"edge5\"><title>140064143031992-&gt;140064142840944</title>\n",
       "<path d=\"M103.5,-292.313C103.5,-284.289 103.5,-274.547 103.5,-265.569\" fill=\"none\" stroke=\"black\"/>\n",
       "<polygon fill=\"black\" points=\"107,-265.529 103.5,-255.529 100,-265.529 107,-265.529\" stroke=\"black\"/>\n",
       "</g>\n",
       "<!-- 140064142685016 -->\n",
       "<g class=\"node\" id=\"node6\"><title>140064142685016</title>\n",
       "<polygon fill=\"none\" points=\"55.5,-146.5 55.5,-182.5 151.5,-182.5 151.5,-146.5 55.5,-146.5\" stroke=\"black\"/>\n",
       "<text font-family=\"Times,serif\" font-size=\"14.00\" text-anchor=\"middle\" x=\"103.5\" y=\"-160.8\">flatten: Flatten</text>\n",
       "</g>\n",
       "<!-- 140064142840944&#45;&gt;140064142685016 -->\n",
       "<g class=\"edge\" id=\"edge6\"><title>140064142840944-&gt;140064142685016</title>\n",
       "<path d=\"M103.5,-219.313C103.5,-211.289 103.5,-201.547 103.5,-192.569\" fill=\"none\" stroke=\"black\"/>\n",
       "<polygon fill=\"black\" points=\"107,-192.529 103.5,-182.529 100,-192.529 107,-192.529\" stroke=\"black\"/>\n",
       "</g>\n",
       "<!-- 140064142781800 -->\n",
       "<g class=\"node\" id=\"node7\"><title>140064142781800</title>\n",
       "<polygon fill=\"none\" points=\"59,-73.5 59,-109.5 148,-109.5 148,-73.5 59,-73.5\" stroke=\"black\"/>\n",
       "<text font-family=\"Times,serif\" font-size=\"14.00\" text-anchor=\"middle\" x=\"103.5\" y=\"-87.8\">dense: Dense</text>\n",
       "</g>\n",
       "<!-- 140064142685016&#45;&gt;140064142781800 -->\n",
       "<g class=\"edge\" id=\"edge7\"><title>140064142685016-&gt;140064142781800</title>\n",
       "<path d=\"M103.5,-146.313C103.5,-138.289 103.5,-128.547 103.5,-119.569\" fill=\"none\" stroke=\"black\"/>\n",
       "<polygon fill=\"black\" points=\"107,-119.529 103.5,-109.529 100,-119.529 107,-119.529\" stroke=\"black\"/>\n",
       "</g>\n",
       "<!-- 140064142400872 -->\n",
       "<g class=\"node\" id=\"node8\"><title>140064142400872</title>\n",
       "<polygon fill=\"none\" points=\"52.5,-0.5 52.5,-36.5 154.5,-36.5 154.5,-0.5 52.5,-0.5\" stroke=\"black\"/>\n",
       "<text font-family=\"Times,serif\" font-size=\"14.00\" text-anchor=\"middle\" x=\"103.5\" y=\"-14.8\">dense_1: Dense</text>\n",
       "</g>\n",
       "<!-- 140064142781800&#45;&gt;140064142400872 -->\n",
       "<g class=\"edge\" id=\"edge8\"><title>140064142781800-&gt;140064142400872</title>\n",
       "<path d=\"M103.5,-73.3129C103.5,-65.2895 103.5,-55.5475 103.5,-46.5691\" fill=\"none\" stroke=\"black\"/>\n",
       "<polygon fill=\"black\" points=\"107,-46.5288 103.5,-36.5288 100,-46.5289 107,-46.5288\" stroke=\"black\"/>\n",
       "</g>\n",
       "<!-- 140064143292176 -->\n",
       "<g class=\"node\" id=\"node9\"><title>140064143292176</title>\n",
       "<polygon fill=\"none\" points=\"44.5,-584.5 44.5,-620.5 162.5,-620.5 162.5,-584.5 44.5,-584.5\" stroke=\"black\"/>\n",
       "<text font-family=\"Times,serif\" font-size=\"14.00\" text-anchor=\"middle\" x=\"103.5\" y=\"-598.8\">140064143292176</text>\n",
       "</g>\n",
       "<!-- 140064143292176&#45;&gt;140064143293576 -->\n",
       "<g class=\"edge\" id=\"edge1\"><title>140064143292176-&gt;140064143293576</title>\n",
       "<path d=\"M103.5,-584.313C103.5,-576.289 103.5,-566.547 103.5,-557.569\" fill=\"none\" stroke=\"black\"/>\n",
       "<polygon fill=\"black\" points=\"107,-557.529 103.5,-547.529 100,-557.529 107,-557.529\" stroke=\"black\"/>\n",
       "</g>\n",
       "</g>\n",
       "</svg>"
      ],
      "text/plain": [
       "<IPython.core.display.SVG object>"
      ]
     },
     "execution_count": 20,
     "metadata": {},
     "output_type": "execute_result"
    }
   ],
   "source": [
    "plot_model(model, to_file='model.png')\n",
    "SVG(model_to_dot(model).create(prog='dot', format='svg'))"
   ]
  },
  {
   "cell_type": "markdown",
   "metadata": {
    "_uuid": "68a2e932241f29e52a3150b3fcf3fe9c21243be2"
   },
   "source": [
    "### Run the model\n",
    "\n",
    "We run the model with the training set. We are also using the validation set (a subset from the orginal training set) for validation."
   ]
  },
  {
   "cell_type": "code",
   "execution_count": 21,
   "metadata": {
    "_uuid": "400494b7e0525069175625422e8c300bd7b41c51",
    "scrolled": true
   },
   "outputs": [
    {
     "name": "stdout",
     "output_type": "stream",
     "text": [
      "Train on 48000 samples, validate on 12000 samples\n",
      "Epoch 1/50\n",
      "48000/48000 [==============================] - 45s 939us/step - loss: 0.5287 - acc: 0.8089 - val_loss: 0.3723 - val_acc: 0.8653\n",
      "Epoch 2/50\n",
      "48000/48000 [==============================] - 45s 928us/step - loss: 0.3360 - acc: 0.8774 - val_loss: 0.3453 - val_acc: 0.8746\n",
      "Epoch 3/50\n",
      "48000/48000 [==============================] - 45s 937us/step - loss: 0.2877 - acc: 0.8950 - val_loss: 0.2942 - val_acc: 0.8958\n",
      "Epoch 4/50\n",
      "48000/48000 [==============================] - 44s 926us/step - loss: 0.2551 - acc: 0.9065 - val_loss: 0.2903 - val_acc: 0.8974\n",
      "Epoch 5/50\n",
      "48000/48000 [==============================] - 45s 931us/step - loss: 0.2290 - acc: 0.9150 - val_loss: 0.2688 - val_acc: 0.9052\n",
      "Epoch 6/50\n",
      "48000/48000 [==============================] - 45s 933us/step - loss: 0.2045 - acc: 0.9245 - val_loss: 0.2763 - val_acc: 0.9033\n",
      "Epoch 7/50\n",
      "48000/48000 [==============================] - 44s 925us/step - loss: 0.1865 - acc: 0.9306 - val_loss: 0.2659 - val_acc: 0.9066\n",
      "Epoch 8/50\n",
      "48000/48000 [==============================] - 45s 927us/step - loss: 0.1714 - acc: 0.9367 - val_loss: 0.2781 - val_acc: 0.9033\n",
      "Epoch 9/50\n",
      "48000/48000 [==============================] - 44s 924us/step - loss: 0.1508 - acc: 0.9445 - val_loss: 0.2639 - val_acc: 0.9095\n",
      "Epoch 10/50\n",
      "48000/48000 [==============================] - 45s 927us/step - loss: 0.1322 - acc: 0.9503 - val_loss: 0.2680 - val_acc: 0.9115\n",
      "Epoch 11/50\n",
      "48000/48000 [==============================] - 45s 931us/step - loss: 0.1182 - acc: 0.9558 - val_loss: 0.3027 - val_acc: 0.9059\n",
      "Epoch 12/50\n",
      "48000/48000 [==============================] - 45s 930us/step - loss: 0.1074 - acc: 0.9603 - val_loss: 0.2857 - val_acc: 0.9122\n",
      "Epoch 13/50\n",
      "48000/48000 [==============================] - 45s 936us/step - loss: 0.0928 - acc: 0.9660 - val_loss: 0.2951 - val_acc: 0.9113\n",
      "Epoch 14/50\n",
      "48000/48000 [==============================] - 45s 932us/step - loss: 0.0813 - acc: 0.9702 - val_loss: 0.3332 - val_acc: 0.9087\n",
      "Epoch 15/50\n",
      "48000/48000 [==============================] - 44s 925us/step - loss: 0.0718 - acc: 0.9740 - val_loss: 0.3253 - val_acc: 0.9077\n",
      "Epoch 16/50\n",
      "48000/48000 [==============================] - 44s 918us/step - loss: 0.0638 - acc: 0.9759 - val_loss: 0.3821 - val_acc: 0.9045\n",
      "Epoch 17/50\n",
      "48000/48000 [==============================] - 44s 923us/step - loss: 0.0564 - acc: 0.9790 - val_loss: 0.3594 - val_acc: 0.9102\n",
      "Epoch 18/50\n",
      "48000/48000 [==============================] - 44s 916us/step - loss: 0.0510 - acc: 0.9812 - val_loss: 0.3955 - val_acc: 0.9081\n",
      "Epoch 19/50\n",
      "48000/48000 [==============================] - 44s 917us/step - loss: 0.0445 - acc: 0.9837 - val_loss: 0.4157 - val_acc: 0.9080\n",
      "Epoch 20/50\n",
      "48000/48000 [==============================] - 45s 938us/step - loss: 0.0405 - acc: 0.9851 - val_loss: 0.4217 - val_acc: 0.9111\n",
      "Epoch 21/50\n",
      "48000/48000 [==============================] - 44s 918us/step - loss: 0.0393 - acc: 0.9855 - val_loss: 0.4492 - val_acc: 0.9119\n",
      "Epoch 22/50\n",
      "48000/48000 [==============================] - 44s 912us/step - loss: 0.0334 - acc: 0.9875 - val_loss: 0.4742 - val_acc: 0.9069\n",
      "Epoch 23/50\n",
      "48000/48000 [==============================] - 44s 919us/step - loss: 0.0356 - acc: 0.9870 - val_loss: 0.4564 - val_acc: 0.9058\n",
      "Epoch 24/50\n",
      "48000/48000 [==============================] - 43s 905us/step - loss: 0.0297 - acc: 0.9894 - val_loss: 0.4627 - val_acc: 0.9120\n",
      "Epoch 25/50\n",
      "48000/48000 [==============================] - 43s 903us/step - loss: 0.0264 - acc: 0.9902 - val_loss: 0.5013 - val_acc: 0.9094\n",
      "Epoch 26/50\n",
      "48000/48000 [==============================] - 44s 910us/step - loss: 0.0271 - acc: 0.9900 - val_loss: 0.5098 - val_acc: 0.9084\n",
      "Epoch 27/50\n",
      "48000/48000 [==============================] - 44s 908us/step - loss: 0.0256 - acc: 0.9909 - val_loss: 0.4890 - val_acc: 0.9087\n",
      "Epoch 28/50\n",
      "48000/48000 [==============================] - 43s 904us/step - loss: 0.0243 - acc: 0.9909 - val_loss: 0.5140 - val_acc: 0.9097\n",
      "Epoch 29/50\n",
      "48000/48000 [==============================] - 44s 911us/step - loss: 0.0291 - acc: 0.9895 - val_loss: 0.5581 - val_acc: 0.9091\n",
      "Epoch 30/50\n",
      " 5120/48000 [==>...........................] - ETA: 35s - loss: 0.0186 - acc: 0.9939"
     ]
    }
   ],
   "source": [
    "train_model = model.fit(X_train, y_train,\n",
    "                  batch_size=BATCH_SIZE,\n",
    "                  epochs=NO_EPOCHS,\n",
    "                  verbose=1,\n",
    "                  validation_data=(X_val, y_val))"
   ]
  },
  {
   "cell_type": "markdown",
   "metadata": {
    "_uuid": "8346a686cce7c75ab6d3c1f496aaa25b8a2f96d7"
   },
   "source": []
  },
  {
   "cell_type": "markdown",
   "metadata": {
    "_uuid": "8699df44bc0a95f1a43a201d3dd566746d87173f"
   },
   "source": [
    "## <a id=\"53\">Test prediction accuracy</a>\n",
    "\n",
    "We calculate the test loss and accuracy."
   ]
  },
  {
   "cell_type": "code",
   "execution_count": 22,
   "metadata": {
    "_uuid": "b9e2bb7f25b02d491e34dd0d6d05943e287ae369"
   },
   "outputs": [
    {
     "name": "stdout",
     "output_type": "stream",
     "text": [
      "Test loss: 0.5750140313816257\n",
      "Test accuracy: 0.9121\n"
     ]
    }
   ],
   "source": [
    "score = model.evaluate(X_test, y_test, verbose=0)\n",
    "print('Test loss:', score[0])\n",
    "print('Test accuracy:', score[1])"
   ]
  },
  {
   "cell_type": "markdown",
   "metadata": {
    "_uuid": "4d779b0e47b8263370031c292a231b69decad374"
   },
   "source": [
    "Test accuracy is  around  0.91.\n",
    "\n",
    "We evaluated the model accuracy based on the predicted values for the test set.  Let's check the validation value during training.\n",
    "\n"
   ]
  },
  {
   "cell_type": "markdown",
   "metadata": {
    "_uuid": "2b08e362a264d65687c49919f477e5d11c84d658"
   },
   "source": [
    "## <a id=\"53\">Validation accuracy and loss</a>\n",
    "\n",
    "Let's plot the train and validation accuracy and loss, from the train history."
   ]
  },
  {
   "cell_type": "code",
   "execution_count": 23,
   "metadata": {
    "_uuid": "c034e2f70f0a26f453a764cd3dc6bbdebb3c4c53"
   },
   "outputs": [
    {
     "name": "stdout",
     "output_type": "stream",
     "text": [
      "This is the format of your plot grid:\n",
      "[ (1,1) x1,y1 ]  [ (1,2) x2,y2 ]\n",
      "\n"
     ]
    },
    {
     "data": {
      "application/vnd.plotly.v1+json": {
       "data": [
        {
         "marker": {
          "color": "Green"
         },
         "mode": "markers+lines",
         "name": "Training accuracy",
         "text": [
          "1",
          "2",
          "3",
          "4",
          "5",
          "6",
          "7",
          "8",
          "9",
          "10",
          "11",
          "12",
          "13",
          "14",
          "15",
          "16",
          "17",
          "18",
          "19",
          "20",
          "21",
          "22",
          "23",
          "24",
          "25",
          "26",
          "27",
          "28",
          "29",
          "30",
          "31",
          "32",
          "33",
          "34",
          "35",
          "36",
          "37",
          "38",
          "39",
          "40",
          "41",
          "42",
          "43",
          "44",
          "45",
          "46",
          "47",
          "48",
          "49",
          "50"
         ],
         "type": "scatter",
         "uid": "716816ec-d66e-11eb-9d36-6bf34c4607cd",
         "x": [
          1,
          2,
          3,
          4,
          5,
          6,
          7,
          8,
          9,
          10,
          11,
          12,
          13,
          14,
          15,
          16,
          17,
          18,
          19,
          20,
          21,
          22,
          23,
          24,
          25,
          26,
          27,
          28,
          29,
          30,
          31,
          32,
          33,
          34,
          35,
          36,
          37,
          38,
          39,
          40,
          41,
          42,
          43,
          44,
          45,
          46,
          47,
          48,
          49,
          50
         ],
         "xaxis": "x",
         "y": [
          0.8089375,
          0.8773541666666667,
          0.8950208333333334,
          0.9064583333333334,
          0.9149791666666667,
          0.9244583333333334,
          0.9306458333333333,
          0.9366875,
          0.9445208333333334,
          0.9503125,
          0.95575,
          0.9603125,
          0.9659791666666667,
          0.9701666666666666,
          0.974,
          0.975875,
          0.9789583333333334,
          0.9812083333333333,
          0.9836875,
          0.9851458333333334,
          0.9855208333333333,
          0.9875,
          0.9870208333333333,
          0.9894375,
          0.9901666666666666,
          0.9900416666666667,
          0.9908958333333333,
          0.9909375,
          0.9895208333333333,
          0.9931041666666667,
          0.9915416666666667,
          0.9940833333333333,
          0.9949166666666667,
          0.9902708333333333,
          0.9930833333333333,
          0.9935,
          0.9947083333333333,
          0.99225,
          0.9939166666666667,
          0.9936041666666666,
          0.9941458333333333,
          0.9931041666666667,
          0.9941041666666667,
          0.9964166666666666,
          0.9965625,
          0.9908333333333333,
          0.9953125,
          0.9961875,
          0.9925625,
          0.9935416666666667
         ],
         "yaxis": "y"
        },
        {
         "marker": {
          "color": "Red"
         },
         "mode": "markers+lines",
         "name": "Validation accuracy",
         "text": [
          "1",
          "2",
          "3",
          "4",
          "5",
          "6",
          "7",
          "8",
          "9",
          "10",
          "11",
          "12",
          "13",
          "14",
          "15",
          "16",
          "17",
          "18",
          "19",
          "20",
          "21",
          "22",
          "23",
          "24",
          "25",
          "26",
          "27",
          "28",
          "29",
          "30",
          "31",
          "32",
          "33",
          "34",
          "35",
          "36",
          "37",
          "38",
          "39",
          "40",
          "41",
          "42",
          "43",
          "44",
          "45",
          "46",
          "47",
          "48",
          "49",
          "50"
         ],
         "type": "scatter",
         "uid": "71693ee6-d66e-11eb-9d36-6bf34c4607cd",
         "x": [
          1,
          2,
          3,
          4,
          5,
          6,
          7,
          8,
          9,
          10,
          11,
          12,
          13,
          14,
          15,
          16,
          17,
          18,
          19,
          20,
          21,
          22,
          23,
          24,
          25,
          26,
          27,
          28,
          29,
          30,
          31,
          32,
          33,
          34,
          35,
          36,
          37,
          38,
          39,
          40,
          41,
          42,
          43,
          44,
          45,
          46,
          47,
          48,
          49,
          50
         ],
         "xaxis": "x",
         "y": [
          0.8652500001589457,
          0.8745833333333334,
          0.89575,
          0.8974166666666666,
          0.9052499998410543,
          0.9033333331743876,
          0.906583333492279,
          0.9033333334922791,
          0.9095,
          0.9115000001589457,
          0.9059166668256123,
          0.9122499998410543,
          0.91125,
          0.908666666507721,
          0.90775,
          0.9045,
          0.9101666665077209,
          0.9080833333333334,
          0.9080000001589458,
          0.9110833333333334,
          0.9119166666666667,
          0.9069166668256123,
          0.905833333492279,
          0.9120000001589457,
          0.9094166665077209,
          0.9084166668256124,
          0.90875,
          0.90975,
          0.9090833331743876,
          0.9114999998410542,
          0.9091666668256124,
          0.9143333333333333,
          0.9107500001589457,
          0.90725,
          0.911,
          0.9095000001589457,
          0.90625,
          0.9048333333333334,
          0.9070833334922791,
          0.9102500001589457,
          0.9093333333333333,
          0.9108333331743876,
          0.9124166665077209,
          0.9129999998410543,
          0.908583333492279,
          0.908666666507721,
          0.9115,
          0.9091666665077209,
          0.910833333492279,
          0.9084166665077209
         ],
         "yaxis": "y"
        },
        {
         "marker": {
          "color": "Blue"
         },
         "mode": "markers+lines",
         "name": "Training loss",
         "text": [
          "1",
          "2",
          "3",
          "4",
          "5",
          "6",
          "7",
          "8",
          "9",
          "10",
          "11",
          "12",
          "13",
          "14",
          "15",
          "16",
          "17",
          "18",
          "19",
          "20",
          "21",
          "22",
          "23",
          "24",
          "25",
          "26",
          "27",
          "28",
          "29",
          "30",
          "31",
          "32",
          "33",
          "34",
          "35",
          "36",
          "37",
          "38",
          "39",
          "40",
          "41",
          "42",
          "43",
          "44",
          "45",
          "46",
          "47",
          "48",
          "49",
          "50"
         ],
         "type": "scatter",
         "uid": "716a3b0c-d66e-11eb-9d36-6bf34c4607cd",
         "x": [
          1,
          2,
          3,
          4,
          5,
          6,
          7,
          8,
          9,
          10,
          11,
          12,
          13,
          14,
          15,
          16,
          17,
          18,
          19,
          20,
          21,
          22,
          23,
          24,
          25,
          26,
          27,
          28,
          29,
          30,
          31,
          32,
          33,
          34,
          35,
          36,
          37,
          38,
          39,
          40,
          41,
          42,
          43,
          44,
          45,
          46,
          47,
          48,
          49,
          50
         ],
         "xaxis": "x2",
         "y": [
          0.5286912875970204,
          0.3359853324890137,
          0.2877412524223328,
          0.2550742735862732,
          0.22899939139684042,
          0.2044530771970749,
          0.18652577616771063,
          0.1713769101202488,
          0.15078933983047804,
          0.13220892085631689,
          0.11817247039079666,
          0.10736962189277013,
          0.09275518487890562,
          0.08133323610325655,
          0.0717988699922959,
          0.06375136096030473,
          0.056361138068139555,
          0.05097487024217844,
          0.044523166805505755,
          0.04050266514159739,
          0.03928282896305124,
          0.03340862696990371,
          0.03560756735876203,
          0.02966267121117562,
          0.026436202702422938,
          0.027071640342473984,
          0.025616295931239923,
          0.024272138074350854,
          0.029093023132532835,
          0.020029953050427138,
          0.023917831143829973,
          0.016624590517487377,
          0.015973987725097685,
          0.028134917619327703,
          0.01973518338209639,
          0.018133209091960454,
          0.015880209490346412,
          0.02012511641765013,
          0.017766868900352468,
          0.01795584992924705,
          0.017136109241691885,
          0.019861238625094604,
          0.01686187176061018,
          0.010357930126988019,
          0.011321217423809381,
          0.026398173163373333,
          0.012746501436030181,
          0.01070268203448116,
          0.021814987297092255,
          0.018314560757794727
         ],
         "yaxis": "y2"
        },
        {
         "marker": {
          "color": "Magenta"
         },
         "mode": "markers+lines",
         "name": "Validation loss",
         "text": [
          "1",
          "2",
          "3",
          "4",
          "5",
          "6",
          "7",
          "8",
          "9",
          "10",
          "11",
          "12",
          "13",
          "14",
          "15",
          "16",
          "17",
          "18",
          "19",
          "20",
          "21",
          "22",
          "23",
          "24",
          "25",
          "26",
          "27",
          "28",
          "29",
          "30",
          "31",
          "32",
          "33",
          "34",
          "35",
          "36",
          "37",
          "38",
          "39",
          "40",
          "41",
          "42",
          "43",
          "44",
          "45",
          "46",
          "47",
          "48",
          "49",
          "50"
         ],
         "type": "scatter",
         "uid": "716b2fee-d66e-11eb-9d36-6bf34c4607cd",
         "x": [
          1,
          2,
          3,
          4,
          5,
          6,
          7,
          8,
          9,
          10,
          11,
          12,
          13,
          14,
          15,
          16,
          17,
          18,
          19,
          20,
          21,
          22,
          23,
          24,
          25,
          26,
          27,
          28,
          29,
          30,
          31,
          32,
          33,
          34,
          35,
          36,
          37,
          38,
          39,
          40,
          41,
          42,
          43,
          44,
          45,
          46,
          47,
          48,
          49,
          50
         ],
         "xaxis": "x2",
         "y": [
          0.3723196994463603,
          0.3452654139995575,
          0.2941809949080149,
          0.29026945201555887,
          0.268830677429835,
          0.2763183951377869,
          0.26594041522343953,
          0.2780826334158579,
          0.26387970940272015,
          0.2679587392807007,
          0.3026810038089752,
          0.28569822772343956,
          0.29514808615048727,
          0.333189089457194,
          0.3253004674911499,
          0.3821239688396454,
          0.35943397839864094,
          0.39551168704032896,
          0.4156990655263265,
          0.42167751852671304,
          0.449212988615036,
          0.4742279577255249,
          0.45641967868804934,
          0.46267874908447265,
          0.5013262510299683,
          0.5098351902961731,
          0.48904878107706706,
          0.5140430912971496,
          0.5581234491666158,
          0.5227080758412679,
          0.5401830309232076,
          0.5205114692052205,
          0.5600998454093933,
          0.5480900635719299,
          0.5307326296170553,
          0.5653208932876587,
          0.6209767468770345,
          0.6057307526270549,
          0.6205382051467896,
          0.6093983182907105,
          0.6126284405390422,
          0.6084886223475139,
          0.6206682771046956,
          0.6153988374074301,
          0.6487215868631999,
          0.6036923456192017,
          0.6660354622205098,
          0.6584030812581381,
          0.6014031937917074,
          0.6387045912742615
         ],
         "yaxis": "y2"
        }
       ],
       "layout": {
        "annotations": [
         {
          "font": {
           "size": 16
          },
          "showarrow": false,
          "text": "Training and validation accuracy",
          "x": 0.225,
          "xanchor": "center",
          "xref": "paper",
          "y": 1,
          "yanchor": "bottom",
          "yref": "paper"
         },
         {
          "font": {
           "size": 16
          },
          "showarrow": false,
          "text": "Training and validation loss",
          "x": 0.775,
          "xanchor": "center",
          "xref": "paper",
          "y": 1,
          "yanchor": "bottom",
          "yref": "paper"
         }
        ],
        "xaxis": {
         "anchor": "y",
         "domain": [
          0,
          0.45
         ],
         "title": "Epoch"
        },
        "xaxis2": {
         "anchor": "y2",
         "domain": [
          0.55,
          1
         ],
         "title": "Epoch"
        },
        "yaxis": {
         "anchor": "x",
         "domain": [
          0,
          1
         ],
         "range": [
          0,
          1
         ],
         "title": "Accuracy"
        },
        "yaxis2": {
         "anchor": "x2",
         "domain": [
          0,
          1
         ],
         "range": [
          0,
          1
         ],
         "title": "Loss"
        }
       }
      },
      "text/html": [
       "<div id=\"8daa997b-0de7-4d9d-8f45-976c284c8af3\" style=\"height: 525px; width: 100%;\" class=\"plotly-graph-div\"></div><script type=\"text/javascript\">require([\"plotly\"], function(Plotly) { window.PLOTLYENV=window.PLOTLYENV || {};window.PLOTLYENV.BASE_URL=\"https://plot.ly\";Plotly.newPlot(\"8daa997b-0de7-4d9d-8f45-976c284c8af3\", [{\"marker\": {\"color\": \"Green\"}, \"mode\": \"markers+lines\", \"name\": \"Training accuracy\", \"text\": [\"1\", \"2\", \"3\", \"4\", \"5\", \"6\", \"7\", \"8\", \"9\", \"10\", \"11\", \"12\", \"13\", \"14\", \"15\", \"16\", \"17\", \"18\", \"19\", \"20\", \"21\", \"22\", \"23\", \"24\", \"25\", \"26\", \"27\", \"28\", \"29\", \"30\", \"31\", \"32\", \"33\", \"34\", \"35\", \"36\", \"37\", \"38\", \"39\", \"40\", \"41\", \"42\", \"43\", \"44\", \"45\", \"46\", \"47\", \"48\", \"49\", \"50\"], \"x\": [1, 2, 3, 4, 5, 6, 7, 8, 9, 10, 11, 12, 13, 14, 15, 16, 17, 18, 19, 20, 21, 22, 23, 24, 25, 26, 27, 28, 29, 30, 31, 32, 33, 34, 35, 36, 37, 38, 39, 40, 41, 42, 43, 44, 45, 46, 47, 48, 49, 50], \"y\": [0.8089375, 0.8773541666666667, 0.8950208333333334, 0.9064583333333334, 0.9149791666666667, 0.9244583333333334, 0.9306458333333333, 0.9366875, 0.9445208333333334, 0.9503125, 0.95575, 0.9603125, 0.9659791666666667, 0.9701666666666666, 0.974, 0.975875, 0.9789583333333334, 0.9812083333333333, 0.9836875, 0.9851458333333334, 0.9855208333333333, 0.9875, 0.9870208333333333, 0.9894375, 0.9901666666666666, 0.9900416666666667, 0.9908958333333333, 0.9909375, 0.9895208333333333, 0.9931041666666667, 0.9915416666666667, 0.9940833333333333, 0.9949166666666667, 0.9902708333333333, 0.9930833333333333, 0.9935, 0.9947083333333333, 0.99225, 0.9939166666666667, 0.9936041666666666, 0.9941458333333333, 0.9931041666666667, 0.9941041666666667, 0.9964166666666666, 0.9965625, 0.9908333333333333, 0.9953125, 0.9961875, 0.9925625, 0.9935416666666667], \"type\": \"scatter\", \"uid\": \"716816ec-d66e-11eb-9d36-6bf34c4607cd\", \"xaxis\": \"x\", \"yaxis\": \"y\"}, {\"marker\": {\"color\": \"Red\"}, \"mode\": \"markers+lines\", \"name\": \"Validation accuracy\", \"text\": [\"1\", \"2\", \"3\", \"4\", \"5\", \"6\", \"7\", \"8\", \"9\", \"10\", \"11\", \"12\", \"13\", \"14\", \"15\", \"16\", \"17\", \"18\", \"19\", \"20\", \"21\", \"22\", \"23\", \"24\", \"25\", \"26\", \"27\", \"28\", \"29\", \"30\", \"31\", \"32\", \"33\", \"34\", \"35\", \"36\", \"37\", \"38\", \"39\", \"40\", \"41\", \"42\", \"43\", \"44\", \"45\", \"46\", \"47\", \"48\", \"49\", \"50\"], \"x\": [1, 2, 3, 4, 5, 6, 7, 8, 9, 10, 11, 12, 13, 14, 15, 16, 17, 18, 19, 20, 21, 22, 23, 24, 25, 26, 27, 28, 29, 30, 31, 32, 33, 34, 35, 36, 37, 38, 39, 40, 41, 42, 43, 44, 45, 46, 47, 48, 49, 50], \"y\": [0.8652500001589457, 0.8745833333333334, 0.89575, 0.8974166666666666, 0.9052499998410543, 0.9033333331743876, 0.906583333492279, 0.9033333334922791, 0.9095, 0.9115000001589457, 0.9059166668256123, 0.9122499998410543, 0.91125, 0.908666666507721, 0.90775, 0.9045, 0.9101666665077209, 0.9080833333333334, 0.9080000001589458, 0.9110833333333334, 0.9119166666666667, 0.9069166668256123, 0.905833333492279, 0.9120000001589457, 0.9094166665077209, 0.9084166668256124, 0.90875, 0.90975, 0.9090833331743876, 0.9114999998410542, 0.9091666668256124, 0.9143333333333333, 0.9107500001589457, 0.90725, 0.911, 0.9095000001589457, 0.90625, 0.9048333333333334, 0.9070833334922791, 0.9102500001589457, 0.9093333333333333, 0.9108333331743876, 0.9124166665077209, 0.9129999998410543, 0.908583333492279, 0.908666666507721, 0.9115, 0.9091666665077209, 0.910833333492279, 0.9084166665077209], \"type\": \"scatter\", \"uid\": \"71693ee6-d66e-11eb-9d36-6bf34c4607cd\", \"xaxis\": \"x\", \"yaxis\": \"y\"}, {\"marker\": {\"color\": \"Blue\"}, \"mode\": \"markers+lines\", \"name\": \"Training loss\", \"text\": [\"1\", \"2\", \"3\", \"4\", \"5\", \"6\", \"7\", \"8\", \"9\", \"10\", \"11\", \"12\", \"13\", \"14\", \"15\", \"16\", \"17\", \"18\", \"19\", \"20\", \"21\", \"22\", \"23\", \"24\", \"25\", \"26\", \"27\", \"28\", \"29\", \"30\", \"31\", \"32\", \"33\", \"34\", \"35\", \"36\", \"37\", \"38\", \"39\", \"40\", \"41\", \"42\", \"43\", \"44\", \"45\", \"46\", \"47\", \"48\", \"49\", \"50\"], \"x\": [1, 2, 3, 4, 5, 6, 7, 8, 9, 10, 11, 12, 13, 14, 15, 16, 17, 18, 19, 20, 21, 22, 23, 24, 25, 26, 27, 28, 29, 30, 31, 32, 33, 34, 35, 36, 37, 38, 39, 40, 41, 42, 43, 44, 45, 46, 47, 48, 49, 50], \"y\": [0.5286912875970204, 0.3359853324890137, 0.2877412524223328, 0.2550742735862732, 0.22899939139684042, 0.2044530771970749, 0.18652577616771063, 0.1713769101202488, 0.15078933983047804, 0.13220892085631689, 0.11817247039079666, 0.10736962189277013, 0.09275518487890562, 0.08133323610325655, 0.0717988699922959, 0.06375136096030473, 0.056361138068139555, 0.05097487024217844, 0.044523166805505755, 0.04050266514159739, 0.03928282896305124, 0.03340862696990371, 0.03560756735876203, 0.02966267121117562, 0.026436202702422938, 0.027071640342473984, 0.025616295931239923, 0.024272138074350854, 0.029093023132532835, 0.020029953050427138, 0.023917831143829973, 0.016624590517487377, 0.015973987725097685, 0.028134917619327703, 0.01973518338209639, 0.018133209091960454, 0.015880209490346412, 0.02012511641765013, 0.017766868900352468, 0.01795584992924705, 0.017136109241691885, 0.019861238625094604, 0.01686187176061018, 0.010357930126988019, 0.011321217423809381, 0.026398173163373333, 0.012746501436030181, 0.01070268203448116, 0.021814987297092255, 0.018314560757794727], \"type\": \"scatter\", \"uid\": \"716a3b0c-d66e-11eb-9d36-6bf34c4607cd\", \"xaxis\": \"x2\", \"yaxis\": \"y2\"}, {\"marker\": {\"color\": \"Magenta\"}, \"mode\": \"markers+lines\", \"name\": \"Validation loss\", \"text\": [\"1\", \"2\", \"3\", \"4\", \"5\", \"6\", \"7\", \"8\", \"9\", \"10\", \"11\", \"12\", \"13\", \"14\", \"15\", \"16\", \"17\", \"18\", \"19\", \"20\", \"21\", \"22\", \"23\", \"24\", \"25\", \"26\", \"27\", \"28\", \"29\", \"30\", \"31\", \"32\", \"33\", \"34\", \"35\", \"36\", \"37\", \"38\", \"39\", \"40\", \"41\", \"42\", \"43\", \"44\", \"45\", \"46\", \"47\", \"48\", \"49\", \"50\"], \"x\": [1, 2, 3, 4, 5, 6, 7, 8, 9, 10, 11, 12, 13, 14, 15, 16, 17, 18, 19, 20, 21, 22, 23, 24, 25, 26, 27, 28, 29, 30, 31, 32, 33, 34, 35, 36, 37, 38, 39, 40, 41, 42, 43, 44, 45, 46, 47, 48, 49, 50], \"y\": [0.3723196994463603, 0.3452654139995575, 0.2941809949080149, 0.29026945201555887, 0.268830677429835, 0.2763183951377869, 0.26594041522343953, 0.2780826334158579, 0.26387970940272015, 0.2679587392807007, 0.3026810038089752, 0.28569822772343956, 0.29514808615048727, 0.333189089457194, 0.3253004674911499, 0.3821239688396454, 0.35943397839864094, 0.39551168704032896, 0.4156990655263265, 0.42167751852671304, 0.449212988615036, 0.4742279577255249, 0.45641967868804934, 0.46267874908447265, 0.5013262510299683, 0.5098351902961731, 0.48904878107706706, 0.5140430912971496, 0.5581234491666158, 0.5227080758412679, 0.5401830309232076, 0.5205114692052205, 0.5600998454093933, 0.5480900635719299, 0.5307326296170553, 0.5653208932876587, 0.6209767468770345, 0.6057307526270549, 0.6205382051467896, 0.6093983182907105, 0.6126284405390422, 0.6084886223475139, 0.6206682771046956, 0.6153988374074301, 0.6487215868631999, 0.6036923456192017, 0.6660354622205098, 0.6584030812581381, 0.6014031937917074, 0.6387045912742615], \"type\": \"scatter\", \"uid\": \"716b2fee-d66e-11eb-9d36-6bf34c4607cd\", \"xaxis\": \"x2\", \"yaxis\": \"y2\"}], {\"annotations\": [{\"font\": {\"size\": 16}, \"showarrow\": false, \"text\": \"Training and validation accuracy\", \"x\": 0.225, \"xanchor\": \"center\", \"xref\": \"paper\", \"y\": 1.0, \"yanchor\": \"bottom\", \"yref\": \"paper\"}, {\"font\": {\"size\": 16}, \"showarrow\": false, \"text\": \"Training and validation loss\", \"x\": 0.775, \"xanchor\": \"center\", \"xref\": \"paper\", \"y\": 1.0, \"yanchor\": \"bottom\", \"yref\": \"paper\"}], \"xaxis\": {\"anchor\": \"y\", \"domain\": [0.0, 0.45], \"title\": \"Epoch\"}, \"yaxis\": {\"anchor\": \"x\", \"domain\": [0.0, 1.0], \"title\": \"Accuracy\", \"range\": [0, 1]}, \"xaxis2\": {\"anchor\": \"y2\", \"domain\": [0.55, 1.0], \"title\": \"Epoch\"}, \"yaxis2\": {\"anchor\": \"x2\", \"domain\": [0.0, 1.0], \"title\": \"Loss\", \"range\": [0, 1]}}, {\"showLink\": true, \"linkText\": \"Export to plot.ly\"})});</script>"
      ],
      "text/vnd.plotly.v1+html": [
       "<div id=\"8daa997b-0de7-4d9d-8f45-976c284c8af3\" style=\"height: 525px; width: 100%;\" class=\"plotly-graph-div\"></div><script type=\"text/javascript\">require([\"plotly\"], function(Plotly) { window.PLOTLYENV=window.PLOTLYENV || {};window.PLOTLYENV.BASE_URL=\"https://plot.ly\";Plotly.newPlot(\"8daa997b-0de7-4d9d-8f45-976c284c8af3\", [{\"marker\": {\"color\": \"Green\"}, \"mode\": \"markers+lines\", \"name\": \"Training accuracy\", \"text\": [\"1\", \"2\", \"3\", \"4\", \"5\", \"6\", \"7\", \"8\", \"9\", \"10\", \"11\", \"12\", \"13\", \"14\", \"15\", \"16\", \"17\", \"18\", \"19\", \"20\", \"21\", \"22\", \"23\", \"24\", \"25\", \"26\", \"27\", \"28\", \"29\", \"30\", \"31\", \"32\", \"33\", \"34\", \"35\", \"36\", \"37\", \"38\", \"39\", \"40\", \"41\", \"42\", \"43\", \"44\", \"45\", \"46\", \"47\", \"48\", \"49\", \"50\"], \"x\": [1, 2, 3, 4, 5, 6, 7, 8, 9, 10, 11, 12, 13, 14, 15, 16, 17, 18, 19, 20, 21, 22, 23, 24, 25, 26, 27, 28, 29, 30, 31, 32, 33, 34, 35, 36, 37, 38, 39, 40, 41, 42, 43, 44, 45, 46, 47, 48, 49, 50], \"y\": [0.8089375, 0.8773541666666667, 0.8950208333333334, 0.9064583333333334, 0.9149791666666667, 0.9244583333333334, 0.9306458333333333, 0.9366875, 0.9445208333333334, 0.9503125, 0.95575, 0.9603125, 0.9659791666666667, 0.9701666666666666, 0.974, 0.975875, 0.9789583333333334, 0.9812083333333333, 0.9836875, 0.9851458333333334, 0.9855208333333333, 0.9875, 0.9870208333333333, 0.9894375, 0.9901666666666666, 0.9900416666666667, 0.9908958333333333, 0.9909375, 0.9895208333333333, 0.9931041666666667, 0.9915416666666667, 0.9940833333333333, 0.9949166666666667, 0.9902708333333333, 0.9930833333333333, 0.9935, 0.9947083333333333, 0.99225, 0.9939166666666667, 0.9936041666666666, 0.9941458333333333, 0.9931041666666667, 0.9941041666666667, 0.9964166666666666, 0.9965625, 0.9908333333333333, 0.9953125, 0.9961875, 0.9925625, 0.9935416666666667], \"type\": \"scatter\", \"uid\": \"716816ec-d66e-11eb-9d36-6bf34c4607cd\", \"xaxis\": \"x\", \"yaxis\": \"y\"}, {\"marker\": {\"color\": \"Red\"}, \"mode\": \"markers+lines\", \"name\": \"Validation accuracy\", \"text\": [\"1\", \"2\", \"3\", \"4\", \"5\", \"6\", \"7\", \"8\", \"9\", \"10\", \"11\", \"12\", \"13\", \"14\", \"15\", \"16\", \"17\", \"18\", \"19\", \"20\", \"21\", \"22\", \"23\", \"24\", \"25\", \"26\", \"27\", \"28\", \"29\", \"30\", \"31\", \"32\", \"33\", \"34\", \"35\", \"36\", \"37\", \"38\", \"39\", \"40\", \"41\", \"42\", \"43\", \"44\", \"45\", \"46\", \"47\", \"48\", \"49\", \"50\"], \"x\": [1, 2, 3, 4, 5, 6, 7, 8, 9, 10, 11, 12, 13, 14, 15, 16, 17, 18, 19, 20, 21, 22, 23, 24, 25, 26, 27, 28, 29, 30, 31, 32, 33, 34, 35, 36, 37, 38, 39, 40, 41, 42, 43, 44, 45, 46, 47, 48, 49, 50], \"y\": [0.8652500001589457, 0.8745833333333334, 0.89575, 0.8974166666666666, 0.9052499998410543, 0.9033333331743876, 0.906583333492279, 0.9033333334922791, 0.9095, 0.9115000001589457, 0.9059166668256123, 0.9122499998410543, 0.91125, 0.908666666507721, 0.90775, 0.9045, 0.9101666665077209, 0.9080833333333334, 0.9080000001589458, 0.9110833333333334, 0.9119166666666667, 0.9069166668256123, 0.905833333492279, 0.9120000001589457, 0.9094166665077209, 0.9084166668256124, 0.90875, 0.90975, 0.9090833331743876, 0.9114999998410542, 0.9091666668256124, 0.9143333333333333, 0.9107500001589457, 0.90725, 0.911, 0.9095000001589457, 0.90625, 0.9048333333333334, 0.9070833334922791, 0.9102500001589457, 0.9093333333333333, 0.9108333331743876, 0.9124166665077209, 0.9129999998410543, 0.908583333492279, 0.908666666507721, 0.9115, 0.9091666665077209, 0.910833333492279, 0.9084166665077209], \"type\": \"scatter\", \"uid\": \"71693ee6-d66e-11eb-9d36-6bf34c4607cd\", \"xaxis\": \"x\", \"yaxis\": \"y\"}, {\"marker\": {\"color\": \"Blue\"}, \"mode\": \"markers+lines\", \"name\": \"Training loss\", \"text\": [\"1\", \"2\", \"3\", \"4\", \"5\", \"6\", \"7\", \"8\", \"9\", \"10\", \"11\", \"12\", \"13\", \"14\", \"15\", \"16\", \"17\", \"18\", \"19\", \"20\", \"21\", \"22\", \"23\", \"24\", \"25\", \"26\", \"27\", \"28\", \"29\", \"30\", \"31\", \"32\", \"33\", \"34\", \"35\", \"36\", \"37\", \"38\", \"39\", \"40\", \"41\", \"42\", \"43\", \"44\", \"45\", \"46\", \"47\", \"48\", \"49\", \"50\"], \"x\": [1, 2, 3, 4, 5, 6, 7, 8, 9, 10, 11, 12, 13, 14, 15, 16, 17, 18, 19, 20, 21, 22, 23, 24, 25, 26, 27, 28, 29, 30, 31, 32, 33, 34, 35, 36, 37, 38, 39, 40, 41, 42, 43, 44, 45, 46, 47, 48, 49, 50], \"y\": [0.5286912875970204, 0.3359853324890137, 0.2877412524223328, 0.2550742735862732, 0.22899939139684042, 0.2044530771970749, 0.18652577616771063, 0.1713769101202488, 0.15078933983047804, 0.13220892085631689, 0.11817247039079666, 0.10736962189277013, 0.09275518487890562, 0.08133323610325655, 0.0717988699922959, 0.06375136096030473, 0.056361138068139555, 0.05097487024217844, 0.044523166805505755, 0.04050266514159739, 0.03928282896305124, 0.03340862696990371, 0.03560756735876203, 0.02966267121117562, 0.026436202702422938, 0.027071640342473984, 0.025616295931239923, 0.024272138074350854, 0.029093023132532835, 0.020029953050427138, 0.023917831143829973, 0.016624590517487377, 0.015973987725097685, 0.028134917619327703, 0.01973518338209639, 0.018133209091960454, 0.015880209490346412, 0.02012511641765013, 0.017766868900352468, 0.01795584992924705, 0.017136109241691885, 0.019861238625094604, 0.01686187176061018, 0.010357930126988019, 0.011321217423809381, 0.026398173163373333, 0.012746501436030181, 0.01070268203448116, 0.021814987297092255, 0.018314560757794727], \"type\": \"scatter\", \"uid\": \"716a3b0c-d66e-11eb-9d36-6bf34c4607cd\", \"xaxis\": \"x2\", \"yaxis\": \"y2\"}, {\"marker\": {\"color\": \"Magenta\"}, \"mode\": \"markers+lines\", \"name\": \"Validation loss\", \"text\": [\"1\", \"2\", \"3\", \"4\", \"5\", \"6\", \"7\", \"8\", \"9\", \"10\", \"11\", \"12\", \"13\", \"14\", \"15\", \"16\", \"17\", \"18\", \"19\", \"20\", \"21\", \"22\", \"23\", \"24\", \"25\", \"26\", \"27\", \"28\", \"29\", \"30\", \"31\", \"32\", \"33\", \"34\", \"35\", \"36\", \"37\", \"38\", \"39\", \"40\", \"41\", \"42\", \"43\", \"44\", \"45\", \"46\", \"47\", \"48\", \"49\", \"50\"], \"x\": [1, 2, 3, 4, 5, 6, 7, 8, 9, 10, 11, 12, 13, 14, 15, 16, 17, 18, 19, 20, 21, 22, 23, 24, 25, 26, 27, 28, 29, 30, 31, 32, 33, 34, 35, 36, 37, 38, 39, 40, 41, 42, 43, 44, 45, 46, 47, 48, 49, 50], \"y\": [0.3723196994463603, 0.3452654139995575, 0.2941809949080149, 0.29026945201555887, 0.268830677429835, 0.2763183951377869, 0.26594041522343953, 0.2780826334158579, 0.26387970940272015, 0.2679587392807007, 0.3026810038089752, 0.28569822772343956, 0.29514808615048727, 0.333189089457194, 0.3253004674911499, 0.3821239688396454, 0.35943397839864094, 0.39551168704032896, 0.4156990655263265, 0.42167751852671304, 0.449212988615036, 0.4742279577255249, 0.45641967868804934, 0.46267874908447265, 0.5013262510299683, 0.5098351902961731, 0.48904878107706706, 0.5140430912971496, 0.5581234491666158, 0.5227080758412679, 0.5401830309232076, 0.5205114692052205, 0.5600998454093933, 0.5480900635719299, 0.5307326296170553, 0.5653208932876587, 0.6209767468770345, 0.6057307526270549, 0.6205382051467896, 0.6093983182907105, 0.6126284405390422, 0.6084886223475139, 0.6206682771046956, 0.6153988374074301, 0.6487215868631999, 0.6036923456192017, 0.6660354622205098, 0.6584030812581381, 0.6014031937917074, 0.6387045912742615], \"type\": \"scatter\", \"uid\": \"716b2fee-d66e-11eb-9d36-6bf34c4607cd\", \"xaxis\": \"x2\", \"yaxis\": \"y2\"}], {\"annotations\": [{\"font\": {\"size\": 16}, \"showarrow\": false, \"text\": \"Training and validation accuracy\", \"x\": 0.225, \"xanchor\": \"center\", \"xref\": \"paper\", \"y\": 1.0, \"yanchor\": \"bottom\", \"yref\": \"paper\"}, {\"font\": {\"size\": 16}, \"showarrow\": false, \"text\": \"Training and validation loss\", \"x\": 0.775, \"xanchor\": \"center\", \"xref\": \"paper\", \"y\": 1.0, \"yanchor\": \"bottom\", \"yref\": \"paper\"}], \"xaxis\": {\"anchor\": \"y\", \"domain\": [0.0, 0.45], \"title\": \"Epoch\"}, \"yaxis\": {\"anchor\": \"x\", \"domain\": [0.0, 1.0], \"title\": \"Accuracy\", \"range\": [0, 1]}, \"xaxis2\": {\"anchor\": \"y2\", \"domain\": [0.55, 1.0], \"title\": \"Epoch\"}, \"yaxis2\": {\"anchor\": \"x2\", \"domain\": [0.0, 1.0], \"title\": \"Loss\", \"range\": [0, 1]}}, {\"showLink\": true, \"linkText\": \"Export to plot.ly\"})});</script>"
      ]
     },
     "metadata": {},
     "output_type": "display_data"
    }
   ],
   "source": [
    "def create_trace(x,y,ylabel,color):\n",
    "        trace = go.Scatter(\n",
    "            x = x,y = y,\n",
    "            name=ylabel,\n",
    "            marker=dict(color=color),\n",
    "            mode = \"markers+lines\",\n",
    "            text=x\n",
    "        )\n",
    "        return trace\n",
    "    \n",
    "def plot_accuracy_and_loss(train_model):\n",
    "    hist = train_model.history\n",
    "    acc = hist['acc']\n",
    "    val_acc = hist['val_acc']\n",
    "    loss = hist['loss']\n",
    "    val_loss = hist['val_loss']\n",
    "    epochs = list(range(1,len(acc)+1))\n",
    "    \n",
    "    trace_ta = create_trace(epochs,acc,\"Training accuracy\", \"Green\")\n",
    "    trace_va = create_trace(epochs,val_acc,\"Validation accuracy\", \"Red\")\n",
    "    trace_tl = create_trace(epochs,loss,\"Training loss\", \"Blue\")\n",
    "    trace_vl = create_trace(epochs,val_loss,\"Validation loss\", \"Magenta\")\n",
    "   \n",
    "    fig = tools.make_subplots(rows=1,cols=2, subplot_titles=('Training and validation accuracy',\n",
    "                                                             'Training and validation loss'))\n",
    "    fig.append_trace(trace_ta,1,1)\n",
    "    fig.append_trace(trace_va,1,1)\n",
    "    fig.append_trace(trace_tl,1,2)\n",
    "    fig.append_trace(trace_vl,1,2)\n",
    "    fig['layout']['xaxis'].update(title = 'Epoch')\n",
    "    fig['layout']['xaxis2'].update(title = 'Epoch')\n",
    "    fig['layout']['yaxis'].update(title = 'Accuracy', range=[0,1])\n",
    "    fig['layout']['yaxis2'].update(title = 'Loss', range=[0,1])\n",
    "\n",
    "    \n",
    "    iplot(fig, filename='accuracy-loss')\n",
    "\n",
    "plot_accuracy_and_loss(train_model)"
   ]
  },
  {
   "cell_type": "markdown",
   "metadata": {
    "_uuid": "678f32a0980699b8aa41a3f98840bcc1eabb2aa8"
   },
   "source": [
    "The validation accuracy does not improve after few epochs and the validation loss is increasing after few epochs. This confirms our assumption that the model is overfitted. We will try to improve the model by adding Dropout layers."
   ]
  },
  {
   "cell_type": "markdown",
   "metadata": {
    "_uuid": "5c026022d95d3afefc3e2cf47050c3db5f800ee1"
   },
   "source": [
    "## <a id=\"55\">Add Dropout layers to the model</a>\n",
    "\n",
    "We add several Dropout layers to the model, to help avoiding overfitting.    \n",
    "Dropout is helping avoid overfitting in several ways, as explained in <a href='#8'>[6]</a> and <a href='#8'>[7]</a>.  \n"
   ]
  },
  {
   "cell_type": "code",
   "execution_count": 24,
   "metadata": {
    "_uuid": "6aff87cd33a993a60d701c35026ce8ea19d8665a"
   },
   "outputs": [],
   "source": [
    "# Model\n",
    "model = Sequential()\n",
    "# Add convolution 2D\n",
    "model.add(Conv2D(32, kernel_size=(3, 3),\n",
    "                 activation='relu',\n",
    "                 kernel_initializer='he_normal',\n",
    "                 input_shape=(IMG_ROWS, IMG_COLS, 1)))\n",
    "model.add(MaxPooling2D((2, 2)))\n",
    "# Add dropouts to the model\n",
    "model.add(Dropout(0.25))\n",
    "model.add(Conv2D(64, \n",
    "                 kernel_size=(3, 3), \n",
    "                 activation='relu'))\n",
    "model.add(MaxPooling2D(pool_size=(2, 2)))\n",
    "# Add dropouts to the model\n",
    "model.add(Dropout(0.25))\n",
    "model.add(Conv2D(128, (3, 3), activation='relu'))\n",
    "# Add dropouts to the model\n",
    "model.add(Dropout(0.4))\n",
    "model.add(Flatten())\n",
    "model.add(Dense(128, activation='relu'))\n",
    "# Add dropouts to the model\n",
    "model.add(Dropout(0.3))\n",
    "model.add(Dense(NUM_CLASSES, activation='softmax'))\n",
    "\n",
    "\n",
    "model.compile(loss=keras.losses.categorical_crossentropy,\n",
    "              optimizer='adam',\n",
    "              metrics=['accuracy'])"
   ]
  },
  {
   "cell_type": "markdown",
   "metadata": {
    "_uuid": "46811947e60224235b1ffaed48e7367b3ba68833"
   },
   "source": [
    "## <a id=\"56\">Re-train the model</a>\n",
    "\n",
    "Let's inspect first the model."
   ]
  },
  {
   "cell_type": "code",
   "execution_count": 25,
   "metadata": {
    "_uuid": "594c8f00280db3fd6d4719791326d73c4769117d"
   },
   "outputs": [
    {
     "name": "stdout",
     "output_type": "stream",
     "text": [
      "_________________________________________________________________\n",
      "Layer (type)                 Output Shape              Param #   \n",
      "=================================================================\n",
      "conv2d_3 (Conv2D)            (None, 26, 26, 32)        320       \n",
      "_________________________________________________________________\n",
      "max_pooling2d_2 (MaxPooling2 (None, 13, 13, 32)        0         \n",
      "_________________________________________________________________\n",
      "dropout (Dropout)            (None, 13, 13, 32)        0         \n",
      "_________________________________________________________________\n",
      "conv2d_4 (Conv2D)            (None, 11, 11, 64)        18496     \n",
      "_________________________________________________________________\n",
      "max_pooling2d_3 (MaxPooling2 (None, 5, 5, 64)          0         \n",
      "_________________________________________________________________\n",
      "dropout_1 (Dropout)          (None, 5, 5, 64)          0         \n",
      "_________________________________________________________________\n",
      "conv2d_5 (Conv2D)            (None, 3, 3, 128)         73856     \n",
      "_________________________________________________________________\n",
      "dropout_2 (Dropout)          (None, 3, 3, 128)         0         \n",
      "_________________________________________________________________\n",
      "flatten_1 (Flatten)          (None, 1152)              0         \n",
      "_________________________________________________________________\n",
      "dense_2 (Dense)              (None, 128)               147584    \n",
      "_________________________________________________________________\n",
      "dropout_3 (Dropout)          (None, 128)               0         \n",
      "_________________________________________________________________\n",
      "dense_3 (Dense)              (None, 10)                1290      \n",
      "=================================================================\n",
      "Total params: 241,546\n",
      "Trainable params: 241,546\n",
      "Non-trainable params: 0\n",
      "_________________________________________________________________\n"
     ]
    }
   ],
   "source": [
    "model.summary()"
   ]
  },
  {
   "cell_type": "markdown",
   "metadata": {
    "_uuid": "ab0eb83773ab435204faef8c88b609a29feb635e"
   },
   "source": [
    "Let's also plot the model."
   ]
  },
  {
   "cell_type": "code",
   "execution_count": 26,
   "metadata": {
    "_uuid": "6abc11f358fb81d2655f80bea7762546b18dee82"
   },
   "outputs": [
    {
     "data": {
      "image/svg+xml": [
       "<svg height=\"921pt\" viewBox=\"0.00 0.00 215.00 921.00\" width=\"215pt\" xmlns=\"http://www.w3.org/2000/svg\" xmlns:xlink=\"http://www.w3.org/1999/xlink\">\n",
       "<g class=\"graph\" id=\"graph0\" transform=\"scale(1 1) rotate(0) translate(4 917)\">\n",
       "<title>G</title>\n",
       "<polygon fill=\"white\" points=\"-4,4 -4,-917 211,-917 211,4 -4,4\" stroke=\"none\"/>\n",
       "<!-- 140064590741688 -->\n",
       "<g class=\"node\" id=\"node1\"><title>140064590741688</title>\n",
       "<polygon fill=\"none\" points=\"42,-803.5 42,-839.5 165,-839.5 165,-803.5 42,-803.5\" stroke=\"black\"/>\n",
       "<text font-family=\"Times,serif\" font-size=\"14.00\" text-anchor=\"middle\" x=\"103.5\" y=\"-817.8\">conv2d_3: Conv2D</text>\n",
       "</g>\n",
       "<!-- 140064590741856 -->\n",
       "<g class=\"node\" id=\"node2\"><title>140064590741856</title>\n",
       "<polygon fill=\"none\" points=\"0,-730.5 0,-766.5 207,-766.5 207,-730.5 0,-730.5\" stroke=\"black\"/>\n",
       "<text font-family=\"Times,serif\" font-size=\"14.00\" text-anchor=\"middle\" x=\"103.5\" y=\"-744.8\">max_pooling2d_2: MaxPooling2D</text>\n",
       "</g>\n",
       "<!-- 140064590741688&#45;&gt;140064590741856 -->\n",
       "<g class=\"edge\" id=\"edge2\"><title>140064590741688-&gt;140064590741856</title>\n",
       "<path d=\"M103.5,-803.313C103.5,-795.289 103.5,-785.547 103.5,-776.569\" fill=\"none\" stroke=\"black\"/>\n",
       "<polygon fill=\"black\" points=\"107,-776.529 103.5,-766.529 100,-776.529 107,-776.529\" stroke=\"black\"/>\n",
       "</g>\n",
       "<!-- 140064621831448 -->\n",
       "<g class=\"node\" id=\"node3\"><title>140064621831448</title>\n",
       "<polygon fill=\"none\" points=\"48,-657.5 48,-693.5 159,-693.5 159,-657.5 48,-657.5\" stroke=\"black\"/>\n",
       "<text font-family=\"Times,serif\" font-size=\"14.00\" text-anchor=\"middle\" x=\"103.5\" y=\"-671.8\">dropout: Dropout</text>\n",
       "</g>\n",
       "<!-- 140064590741856&#45;&gt;140064621831448 -->\n",
       "<g class=\"edge\" id=\"edge3\"><title>140064590741856-&gt;140064621831448</title>\n",
       "<path d=\"M103.5,-730.313C103.5,-722.289 103.5,-712.547 103.5,-703.569\" fill=\"none\" stroke=\"black\"/>\n",
       "<polygon fill=\"black\" points=\"107,-703.529 103.5,-693.529 100,-703.529 107,-703.529\" stroke=\"black\"/>\n",
       "</g>\n",
       "<!-- 140064621832736 -->\n",
       "<g class=\"node\" id=\"node4\"><title>140064621832736</title>\n",
       "<polygon fill=\"none\" points=\"42,-584.5 42,-620.5 165,-620.5 165,-584.5 42,-584.5\" stroke=\"black\"/>\n",
       "<text font-family=\"Times,serif\" font-size=\"14.00\" text-anchor=\"middle\" x=\"103.5\" y=\"-598.8\">conv2d_4: Conv2D</text>\n",
       "</g>\n",
       "<!-- 140064621831448&#45;&gt;140064621832736 -->\n",
       "<g class=\"edge\" id=\"edge4\"><title>140064621831448-&gt;140064621832736</title>\n",
       "<path d=\"M103.5,-657.313C103.5,-649.289 103.5,-639.547 103.5,-630.569\" fill=\"none\" stroke=\"black\"/>\n",
       "<polygon fill=\"black\" points=\"107,-630.529 103.5,-620.529 100,-630.529 107,-630.529\" stroke=\"black\"/>\n",
       "</g>\n",
       "<!-- 140064621570256 -->\n",
       "<g class=\"node\" id=\"node5\"><title>140064621570256</title>\n",
       "<polygon fill=\"none\" points=\"0,-511.5 0,-547.5 207,-547.5 207,-511.5 0,-511.5\" stroke=\"black\"/>\n",
       "<text font-family=\"Times,serif\" font-size=\"14.00\" text-anchor=\"middle\" x=\"103.5\" y=\"-525.8\">max_pooling2d_3: MaxPooling2D</text>\n",
       "</g>\n",
       "<!-- 140064621832736&#45;&gt;140064621570256 -->\n",
       "<g class=\"edge\" id=\"edge5\"><title>140064621832736-&gt;140064621570256</title>\n",
       "<path d=\"M103.5,-584.313C103.5,-576.289 103.5,-566.547 103.5,-557.569\" fill=\"none\" stroke=\"black\"/>\n",
       "<polygon fill=\"black\" points=\"107,-557.529 103.5,-547.529 100,-557.529 107,-557.529\" stroke=\"black\"/>\n",
       "</g>\n",
       "<!-- 140064621415840 -->\n",
       "<g class=\"node\" id=\"node6\"><title>140064621415840</title>\n",
       "<polygon fill=\"none\" points=\"41,-438.5 41,-474.5 166,-474.5 166,-438.5 41,-438.5\" stroke=\"black\"/>\n",
       "<text font-family=\"Times,serif\" font-size=\"14.00\" text-anchor=\"middle\" x=\"103.5\" y=\"-452.8\">dropout_1: Dropout</text>\n",
       "</g>\n",
       "<!-- 140064621570256&#45;&gt;140064621415840 -->\n",
       "<g class=\"edge\" id=\"edge6\"><title>140064621570256-&gt;140064621415840</title>\n",
       "<path d=\"M103.5,-511.313C103.5,-503.289 103.5,-493.547 103.5,-484.569\" fill=\"none\" stroke=\"black\"/>\n",
       "<polygon fill=\"black\" points=\"107,-484.529 103.5,-474.529 100,-484.529 107,-484.529\" stroke=\"black\"/>\n",
       "</g>\n",
       "<!-- 140064621148928 -->\n",
       "<g class=\"node\" id=\"node7\"><title>140064621148928</title>\n",
       "<polygon fill=\"none\" points=\"42,-365.5 42,-401.5 165,-401.5 165,-365.5 42,-365.5\" stroke=\"black\"/>\n",
       "<text font-family=\"Times,serif\" font-size=\"14.00\" text-anchor=\"middle\" x=\"103.5\" y=\"-379.8\">conv2d_5: Conv2D</text>\n",
       "</g>\n",
       "<!-- 140064621415840&#45;&gt;140064621148928 -->\n",
       "<g class=\"edge\" id=\"edge7\"><title>140064621415840-&gt;140064621148928</title>\n",
       "<path d=\"M103.5,-438.313C103.5,-430.289 103.5,-420.547 103.5,-411.569\" fill=\"none\" stroke=\"black\"/>\n",
       "<polygon fill=\"black\" points=\"107,-411.529 103.5,-401.529 100,-411.529 107,-411.529\" stroke=\"black\"/>\n",
       "</g>\n",
       "<!-- 140064621149880 -->\n",
       "<g class=\"node\" id=\"node8\"><title>140064621149880</title>\n",
       "<polygon fill=\"none\" points=\"41,-292.5 41,-328.5 166,-328.5 166,-292.5 41,-292.5\" stroke=\"black\"/>\n",
       "<text font-family=\"Times,serif\" font-size=\"14.00\" text-anchor=\"middle\" x=\"103.5\" y=\"-306.8\">dropout_2: Dropout</text>\n",
       "</g>\n",
       "<!-- 140064621148928&#45;&gt;140064621149880 -->\n",
       "<g class=\"edge\" id=\"edge8\"><title>140064621148928-&gt;140064621149880</title>\n",
       "<path d=\"M103.5,-365.313C103.5,-357.289 103.5,-347.547 103.5,-338.569\" fill=\"none\" stroke=\"black\"/>\n",
       "<polygon fill=\"black\" points=\"107,-338.529 103.5,-328.529 100,-338.529 107,-338.529\" stroke=\"black\"/>\n",
       "</g>\n",
       "<!-- 140064595506624 -->\n",
       "<g class=\"node\" id=\"node9\"><title>140064595506624</title>\n",
       "<polygon fill=\"none\" points=\"48.5,-219.5 48.5,-255.5 158.5,-255.5 158.5,-219.5 48.5,-219.5\" stroke=\"black\"/>\n",
       "<text font-family=\"Times,serif\" font-size=\"14.00\" text-anchor=\"middle\" x=\"103.5\" y=\"-233.8\">flatten_1: Flatten</text>\n",
       "</g>\n",
       "<!-- 140064621149880&#45;&gt;140064595506624 -->\n",
       "<g class=\"edge\" id=\"edge9\"><title>140064621149880-&gt;140064595506624</title>\n",
       "<path d=\"M103.5,-292.313C103.5,-284.289 103.5,-274.547 103.5,-265.569\" fill=\"none\" stroke=\"black\"/>\n",
       "<polygon fill=\"black\" points=\"107,-265.529 103.5,-255.529 100,-265.529 107,-265.529\" stroke=\"black\"/>\n",
       "</g>\n",
       "<!-- 140064590742304 -->\n",
       "<g class=\"node\" id=\"node10\"><title>140064590742304</title>\n",
       "<polygon fill=\"none\" points=\"52.5,-146.5 52.5,-182.5 154.5,-182.5 154.5,-146.5 52.5,-146.5\" stroke=\"black\"/>\n",
       "<text font-family=\"Times,serif\" font-size=\"14.00\" text-anchor=\"middle\" x=\"103.5\" y=\"-160.8\">dense_2: Dense</text>\n",
       "</g>\n",
       "<!-- 140064595506624&#45;&gt;140064590742304 -->\n",
       "<g class=\"edge\" id=\"edge10\"><title>140064595506624-&gt;140064590742304</title>\n",
       "<path d=\"M103.5,-219.313C103.5,-211.289 103.5,-201.547 103.5,-192.569\" fill=\"none\" stroke=\"black\"/>\n",
       "<polygon fill=\"black\" points=\"107,-192.529 103.5,-182.529 100,-192.529 107,-192.529\" stroke=\"black\"/>\n",
       "</g>\n",
       "<!-- 140064594910400 -->\n",
       "<g class=\"node\" id=\"node11\"><title>140064594910400</title>\n",
       "<polygon fill=\"none\" points=\"41,-73.5 41,-109.5 166,-109.5 166,-73.5 41,-73.5\" stroke=\"black\"/>\n",
       "<text font-family=\"Times,serif\" font-size=\"14.00\" text-anchor=\"middle\" x=\"103.5\" y=\"-87.8\">dropout_3: Dropout</text>\n",
       "</g>\n",
       "<!-- 140064590742304&#45;&gt;140064594910400 -->\n",
       "<g class=\"edge\" id=\"edge11\"><title>140064590742304-&gt;140064594910400</title>\n",
       "<path d=\"M103.5,-146.313C103.5,-138.289 103.5,-128.547 103.5,-119.569\" fill=\"none\" stroke=\"black\"/>\n",
       "<polygon fill=\"black\" points=\"107,-119.529 103.5,-109.529 100,-119.529 107,-119.529\" stroke=\"black\"/>\n",
       "</g>\n",
       "<!-- 140064594910512 -->\n",
       "<g class=\"node\" id=\"node12\"><title>140064594910512</title>\n",
       "<polygon fill=\"none\" points=\"52.5,-0.5 52.5,-36.5 154.5,-36.5 154.5,-0.5 52.5,-0.5\" stroke=\"black\"/>\n",
       "<text font-family=\"Times,serif\" font-size=\"14.00\" text-anchor=\"middle\" x=\"103.5\" y=\"-14.8\">dense_3: Dense</text>\n",
       "</g>\n",
       "<!-- 140064594910400&#45;&gt;140064594910512 -->\n",
       "<g class=\"edge\" id=\"edge12\"><title>140064594910400-&gt;140064594910512</title>\n",
       "<path d=\"M103.5,-73.3129C103.5,-65.2895 103.5,-55.5475 103.5,-46.5691\" fill=\"none\" stroke=\"black\"/>\n",
       "<polygon fill=\"black\" points=\"107,-46.5288 103.5,-36.5288 100,-46.5289 107,-46.5288\" stroke=\"black\"/>\n",
       "</g>\n",
       "<!-- 140064590742192 -->\n",
       "<g class=\"node\" id=\"node13\"><title>140064590742192</title>\n",
       "<polygon fill=\"none\" points=\"44.5,-876.5 44.5,-912.5 162.5,-912.5 162.5,-876.5 44.5,-876.5\" stroke=\"black\"/>\n",
       "<text font-family=\"Times,serif\" font-size=\"14.00\" text-anchor=\"middle\" x=\"103.5\" y=\"-890.8\">140064590742192</text>\n",
       "</g>\n",
       "<!-- 140064590742192&#45;&gt;140064590741688 -->\n",
       "<g class=\"edge\" id=\"edge1\"><title>140064590742192-&gt;140064590741688</title>\n",
       "<path d=\"M103.5,-876.313C103.5,-868.289 103.5,-858.547 103.5,-849.569\" fill=\"none\" stroke=\"black\"/>\n",
       "<polygon fill=\"black\" points=\"107,-849.529 103.5,-839.529 100,-849.529 107,-849.529\" stroke=\"black\"/>\n",
       "</g>\n",
       "</g>\n",
       "</svg>"
      ],
      "text/plain": [
       "<IPython.core.display.SVG object>"
      ]
     },
     "execution_count": 26,
     "metadata": {},
     "output_type": "execute_result"
    }
   ],
   "source": [
    "plot_model(model, to_file='model.png')\n",
    "SVG(model_to_dot(model).create(prog='dot', format='svg'))"
   ]
  },
  {
   "cell_type": "markdown",
   "metadata": {
    "_uuid": "99a964cc1478f1a8583e803ad7eeb35aadd15995"
   },
   "source": [
    "And now let's run the new model."
   ]
  },
  {
   "cell_type": "code",
   "execution_count": 27,
   "metadata": {
    "_uuid": "83029bfb27f99fb6be2ecedc1bd256c0e861456c"
   },
   "outputs": [
    {
     "name": "stdout",
     "output_type": "stream",
     "text": [
      "Train on 48000 samples, validate on 12000 samples\n",
      "Epoch 1/50\n",
      "48000/48000 [==============================] - 49s 1ms/step - loss: 0.7589 - acc: 0.7135 - val_loss: 0.4801 - val_acc: 0.8189\n",
      "Epoch 2/50\n",
      "48000/48000 [==============================] - 49s 1ms/step - loss: 0.4995 - acc: 0.8131 - val_loss: 0.3845 - val_acc: 0.8597\n",
      "Epoch 3/50\n",
      "48000/48000 [==============================] - 49s 1ms/step - loss: 0.4176 - acc: 0.8469 - val_loss: 0.3389 - val_acc: 0.8745\n",
      "Epoch 4/50\n",
      "48000/48000 [==============================] - 49s 1ms/step - loss: 0.3764 - acc: 0.8624 - val_loss: 0.3258 - val_acc: 0.8849\n",
      "Epoch 5/50\n",
      "48000/48000 [==============================] - 48s 1ms/step - loss: 0.3527 - acc: 0.8707 - val_loss: 0.2969 - val_acc: 0.8939\n",
      "Epoch 6/50\n",
      "48000/48000 [==============================] - 49s 1ms/step - loss: 0.3271 - acc: 0.8812 - val_loss: 0.2959 - val_acc: 0.8943\n",
      "Epoch 7/50\n",
      "48000/48000 [==============================] - 48s 1ms/step - loss: 0.3141 - acc: 0.8850 - val_loss: 0.2704 - val_acc: 0.9018\n",
      "Epoch 8/50\n",
      "48000/48000 [==============================] - 49s 1ms/step - loss: 0.3011 - acc: 0.8878 - val_loss: 0.2642 - val_acc: 0.9020\n",
      "Epoch 9/50\n",
      "48000/48000 [==============================] - 48s 1ms/step - loss: 0.2894 - acc: 0.8945 - val_loss: 0.2580 - val_acc: 0.9051\n",
      "Epoch 10/50\n",
      "48000/48000 [==============================] - 48s 1ms/step - loss: 0.2843 - acc: 0.8953 - val_loss: 0.2547 - val_acc: 0.9077\n",
      "Epoch 11/50\n",
      "48000/48000 [==============================] - 49s 1ms/step - loss: 0.2753 - acc: 0.8982 - val_loss: 0.2481 - val_acc: 0.9102\n",
      "Epoch 12/50\n",
      "48000/48000 [==============================] - 48s 1ms/step - loss: 0.2693 - acc: 0.9008 - val_loss: 0.2441 - val_acc: 0.9102\n",
      "Epoch 13/50\n",
      "48000/48000 [==============================] - 48s 1ms/step - loss: 0.2602 - acc: 0.9034 - val_loss: 0.2423 - val_acc: 0.9107\n",
      "Epoch 14/50\n",
      "48000/48000 [==============================] - 48s 995us/step - loss: 0.2575 - acc: 0.9046 - val_loss: 0.2390 - val_acc: 0.9121\n",
      "Epoch 15/50\n",
      "48000/48000 [==============================] - 48s 992us/step - loss: 0.2551 - acc: 0.9047 - val_loss: 0.2402 - val_acc: 0.9118\n",
      "Epoch 16/50\n",
      "48000/48000 [==============================] - 48s 999us/step - loss: 0.2463 - acc: 0.9088 - val_loss: 0.2318 - val_acc: 0.9149\n",
      "Epoch 17/50\n",
      "48000/48000 [==============================] - 48s 1ms/step - loss: 0.2472 - acc: 0.9083 - val_loss: 0.2345 - val_acc: 0.9144\n",
      "Epoch 18/50\n",
      "48000/48000 [==============================] - 48s 1ms/step - loss: 0.2401 - acc: 0.9120 - val_loss: 0.2360 - val_acc: 0.9139\n",
      "Epoch 19/50\n",
      "48000/48000 [==============================] - 49s 1ms/step - loss: 0.2383 - acc: 0.9111 - val_loss: 0.2289 - val_acc: 0.9163\n",
      "Epoch 20/50\n",
      "48000/48000 [==============================] - 48s 1ms/step - loss: 0.2300 - acc: 0.9134 - val_loss: 0.2384 - val_acc: 0.9132\n",
      "Epoch 21/50\n",
      "48000/48000 [==============================] - 48s 1ms/step - loss: 0.2303 - acc: 0.9128 - val_loss: 0.2254 - val_acc: 0.9186\n",
      "Epoch 22/50\n",
      "48000/48000 [==============================] - 48s 1ms/step - loss: 0.2270 - acc: 0.9165 - val_loss: 0.2275 - val_acc: 0.9170\n",
      "Epoch 23/50\n",
      "48000/48000 [==============================] - 49s 1ms/step - loss: 0.2229 - acc: 0.9158 - val_loss: 0.2280 - val_acc: 0.9161\n",
      "Epoch 24/50\n",
      "48000/48000 [==============================] - 49s 1ms/step - loss: 0.2244 - acc: 0.9155 - val_loss: 0.2263 - val_acc: 0.9181\n",
      "Epoch 25/50\n",
      "48000/48000 [==============================] - 49s 1ms/step - loss: 0.2202 - acc: 0.9173 - val_loss: 0.2233 - val_acc: 0.9197\n",
      "Epoch 26/50\n",
      "48000/48000 [==============================] - 49s 1ms/step - loss: 0.2166 - acc: 0.9177 - val_loss: 0.2294 - val_acc: 0.9175\n",
      "Epoch 27/50\n",
      "48000/48000 [==============================] - 48s 1ms/step - loss: 0.2152 - acc: 0.9197 - val_loss: 0.2313 - val_acc: 0.9184\n",
      "Epoch 28/50\n",
      "48000/48000 [==============================] - 49s 1ms/step - loss: 0.2149 - acc: 0.9200 - val_loss: 0.2250 - val_acc: 0.9208\n",
      "Epoch 29/50\n",
      "48000/48000 [==============================] - 49s 1ms/step - loss: 0.2108 - acc: 0.9195 - val_loss: 0.2217 - val_acc: 0.9210\n",
      "Epoch 30/50\n",
      "48000/48000 [==============================] - 48s 1ms/step - loss: 0.2112 - acc: 0.9203 - val_loss: 0.2277 - val_acc: 0.9178\n",
      "Epoch 31/50\n",
      "48000/48000 [==============================] - 49s 1ms/step - loss: 0.2065 - acc: 0.9223 - val_loss: 0.2185 - val_acc: 0.9208\n",
      "Epoch 32/50\n",
      "48000/48000 [==============================] - 48s 1ms/step - loss: 0.2048 - acc: 0.9214 - val_loss: 0.2206 - val_acc: 0.9224\n",
      "Epoch 33/50\n",
      "48000/48000 [==============================] - 48s 1ms/step - loss: 0.2094 - acc: 0.9208 - val_loss: 0.2237 - val_acc: 0.9203\n",
      "Epoch 34/50\n",
      "48000/48000 [==============================] - 48s 1ms/step - loss: 0.2033 - acc: 0.9240 - val_loss: 0.2340 - val_acc: 0.9156\n",
      "Epoch 35/50\n",
      "48000/48000 [==============================] - 48s 1ms/step - loss: 0.2029 - acc: 0.9245 - val_loss: 0.2202 - val_acc: 0.9200\n",
      "Epoch 36/50\n",
      "48000/48000 [==============================] - 48s 1ms/step - loss: 0.1990 - acc: 0.9240 - val_loss: 0.2168 - val_acc: 0.9215\n",
      "Epoch 37/50\n",
      "48000/48000 [==============================] - 48s 1ms/step - loss: 0.1999 - acc: 0.9250 - val_loss: 0.2246 - val_acc: 0.9197\n",
      "Epoch 38/50\n",
      "48000/48000 [==============================] - 48s 1ms/step - loss: 0.1997 - acc: 0.9249 - val_loss: 0.2214 - val_acc: 0.9204\n",
      "Epoch 39/50\n",
      "29056/48000 [=================>............] - ETA: 17s - loss: 0.1987 - acc: 0.9255"
     ]
    }
   ],
   "source": [
    "train_model = model.fit(X_train, y_train,\n",
    "                  batch_size=BATCH_SIZE,\n",
    "                  epochs=NO_EPOCHS,\n",
    "                  verbose=1,\n",
    "                  validation_data=(X_val, y_val))"
   ]
  },
  {
   "cell_type": "markdown",
   "metadata": {
    "_uuid": "676e1c4a3a64db55d6f0e8498f9c59e0e6182931"
   },
   "source": [
    "## <a id=\"57\">Prediction accuracy with the new model</a>\n",
    "\n",
    "Let's re-evaluate the prediction accuracy with the new model."
   ]
  },
  {
   "cell_type": "code",
   "execution_count": 28,
   "metadata": {
    "_uuid": "6b3940059502bfb6303a85a2cee1095b45304491"
   },
   "outputs": [
    {
     "name": "stdout",
     "output_type": "stream",
     "text": [
      "This is the format of your plot grid:\n",
      "[ (1,1) x1,y1 ]  [ (1,2) x2,y2 ]\n",
      "\n"
     ]
    },
    {
     "data": {
      "application/vnd.plotly.v1+json": {
       "data": [
        {
         "marker": {
          "color": "Green"
         },
         "mode": "markers+lines",
         "name": "Training accuracy",
         "text": [
          "1",
          "2",
          "3",
          "4",
          "5",
          "6",
          "7",
          "8",
          "9",
          "10",
          "11",
          "12",
          "13",
          "14",
          "15",
          "16",
          "17",
          "18",
          "19",
          "20",
          "21",
          "22",
          "23",
          "24",
          "25",
          "26",
          "27",
          "28",
          "29",
          "30",
          "31",
          "32",
          "33",
          "34",
          "35",
          "36",
          "37",
          "38",
          "39",
          "40",
          "41",
          "42",
          "43",
          "44",
          "45",
          "46",
          "47",
          "48",
          "49",
          "50"
         ],
         "type": "scatter",
         "uid": "1b8884ae-d674-11eb-9d36-6bf34c4607cd",
         "x": [
          1,
          2,
          3,
          4,
          5,
          6,
          7,
          8,
          9,
          10,
          11,
          12,
          13,
          14,
          15,
          16,
          17,
          18,
          19,
          20,
          21,
          22,
          23,
          24,
          25,
          26,
          27,
          28,
          29,
          30,
          31,
          32,
          33,
          34,
          35,
          36,
          37,
          38,
          39,
          40,
          41,
          42,
          43,
          44,
          45,
          46,
          47,
          48,
          49,
          50
         ],
         "xaxis": "x",
         "y": [
          0.7134583333333333,
          0.8131458333333333,
          0.8469375,
          0.8623958333333334,
          0.87075,
          0.8811875,
          0.885,
          0.8878125,
          0.8944583333333334,
          0.8953333333333333,
          0.8981875,
          0.9007916666666667,
          0.903375,
          0.9046458333333334,
          0.90475,
          0.9087708333333333,
          0.9082708333333334,
          0.9120208333333333,
          0.9110833333333334,
          0.9133958333333333,
          0.9128125,
          0.9165208333333333,
          0.9157708333333333,
          0.9155208333333333,
          0.91725,
          0.9177291666666667,
          0.9197291666666667,
          0.9200208333333333,
          0.9194791666666666,
          0.9202708333333334,
          0.9223125,
          0.9214375,
          0.9208125,
          0.9240208333333333,
          0.9245,
          0.9240416666666667,
          0.9250208333333333,
          0.924875,
          0.9262083333333333,
          0.9262083333333333,
          0.9252291666666667,
          0.9248333333333333,
          0.9278958333333334,
          0.9279583333333333,
          0.9266875,
          0.928625,
          0.9286875,
          0.9284375,
          0.9297291666666667,
          0.9297291666666667
         ],
         "yaxis": "y"
        },
        {
         "marker": {
          "color": "Red"
         },
         "mode": "markers+lines",
         "name": "Validation accuracy",
         "text": [
          "1",
          "2",
          "3",
          "4",
          "5",
          "6",
          "7",
          "8",
          "9",
          "10",
          "11",
          "12",
          "13",
          "14",
          "15",
          "16",
          "17",
          "18",
          "19",
          "20",
          "21",
          "22",
          "23",
          "24",
          "25",
          "26",
          "27",
          "28",
          "29",
          "30",
          "31",
          "32",
          "33",
          "34",
          "35",
          "36",
          "37",
          "38",
          "39",
          "40",
          "41",
          "42",
          "43",
          "44",
          "45",
          "46",
          "47",
          "48",
          "49",
          "50"
         ],
         "type": "scatter",
         "uid": "1b896c8e-d674-11eb-9d36-6bf34c4607cd",
         "x": [
          1,
          2,
          3,
          4,
          5,
          6,
          7,
          8,
          9,
          10,
          11,
          12,
          13,
          14,
          15,
          16,
          17,
          18,
          19,
          20,
          21,
          22,
          23,
          24,
          25,
          26,
          27,
          28,
          29,
          30,
          31,
          32,
          33,
          34,
          35,
          36,
          37,
          38,
          39,
          40,
          41,
          42,
          43,
          44,
          45,
          46,
          47,
          48,
          49,
          50
         ],
         "xaxis": "x",
         "y": [
          0.818916666507721,
          0.859666666507721,
          0.8745000001589457,
          0.8849166668256124,
          0.893916666507721,
          0.8943333334922791,
          0.9018333333333334,
          0.9020000001589458,
          0.9050833331743876,
          0.90775,
          0.9101666668256124,
          0.9101666668256124,
          0.9107499998410543,
          0.9120833331743876,
          0.9118333333333334,
          0.914916666507721,
          0.9144166666666667,
          0.913916666507721,
          0.9163333334922791,
          0.9132499998410543,
          0.9185833331743876,
          0.9170000001589457,
          0.9160833333333334,
          0.9180833331743876,
          0.9197499998410543,
          0.9174999998410542,
          0.9184166665077209,
          0.9208333333333333,
          0.9210000001589457,
          0.917833333492279,
          0.920833333492279,
          0.9224166668256124,
          0.92025,
          0.9155833331743876,
          0.92,
          0.9214999998410542,
          0.9196666668256124,
          0.9204166668256124,
          0.923083333492279,
          0.9219166666666667,
          0.9150833331743876,
          0.9234999998410542,
          0.9224166668256124,
          0.9195833331743876,
          0.9223333333333333,
          0.923166666507721,
          0.9211666668256124,
          0.920083333492279,
          0.92225,
          0.9231666668256124
         ],
         "yaxis": "y"
        },
        {
         "marker": {
          "color": "Blue"
         },
         "mode": "markers+lines",
         "name": "Training loss",
         "text": [
          "1",
          "2",
          "3",
          "4",
          "5",
          "6",
          "7",
          "8",
          "9",
          "10",
          "11",
          "12",
          "13",
          "14",
          "15",
          "16",
          "17",
          "18",
          "19",
          "20",
          "21",
          "22",
          "23",
          "24",
          "25",
          "26",
          "27",
          "28",
          "29",
          "30",
          "31",
          "32",
          "33",
          "34",
          "35",
          "36",
          "37",
          "38",
          "39",
          "40",
          "41",
          "42",
          "43",
          "44",
          "45",
          "46",
          "47",
          "48",
          "49",
          "50"
         ],
         "type": "scatter",
         "uid": "1b8a4fa0-d674-11eb-9d36-6bf34c4607cd",
         "x": [
          1,
          2,
          3,
          4,
          5,
          6,
          7,
          8,
          9,
          10,
          11,
          12,
          13,
          14,
          15,
          16,
          17,
          18,
          19,
          20,
          21,
          22,
          23,
          24,
          25,
          26,
          27,
          28,
          29,
          30,
          31,
          32,
          33,
          34,
          35,
          36,
          37,
          38,
          39,
          40,
          41,
          42,
          43,
          44,
          45,
          46,
          47,
          48,
          49,
          50
         ],
         "xaxis": "x2",
         "y": [
          0.7588978208700816,
          0.4994614039262136,
          0.4176379055182139,
          0.3763961522976557,
          0.3526608361800512,
          0.3271320767402649,
          0.31410491100947063,
          0.30113923641045887,
          0.2894030476808548,
          0.28428554972012837,
          0.2752784274419149,
          0.269307609240214,
          0.26016307787100473,
          0.2574748133222262,
          0.2550889504154523,
          0.24630123205979665,
          0.24718267160654067,
          0.24009604710340499,
          0.23829520271221796,
          0.22999558625618616,
          0.2302764788866043,
          0.22701675899823506,
          0.22285989137490592,
          0.22437510085105897,
          0.22016811778148015,
          0.21662970703840256,
          0.2151598544518153,
          0.2148666255672773,
          0.21084655016660692,
          0.2112198012471199,
          0.20654966606696445,
          0.20478896697362264,
          0.20942835676670074,
          0.20331245410442353,
          0.2029035606980324,
          0.1989613275329272,
          0.19985344622532528,
          0.19972659556070962,
          0.19785770229498545,
          0.19381950809558232,
          0.19444172622760136,
          0.19718283881743748,
          0.18999829558531442,
          0.18951015277703603,
          0.19354521091779073,
          0.18727732666333516,
          0.19012953931093216,
          0.18733255660533904,
          0.1856062503059705,
          0.1853555419842402
         ],
         "yaxis": "y2"
        },
        {
         "marker": {
          "color": "Magenta"
         },
         "mode": "markers+lines",
         "name": "Validation loss",
         "text": [
          "1",
          "2",
          "3",
          "4",
          "5",
          "6",
          "7",
          "8",
          "9",
          "10",
          "11",
          "12",
          "13",
          "14",
          "15",
          "16",
          "17",
          "18",
          "19",
          "20",
          "21",
          "22",
          "23",
          "24",
          "25",
          "26",
          "27",
          "28",
          "29",
          "30",
          "31",
          "32",
          "33",
          "34",
          "35",
          "36",
          "37",
          "38",
          "39",
          "40",
          "41",
          "42",
          "43",
          "44",
          "45",
          "46",
          "47",
          "48",
          "49",
          "50"
         ],
         "type": "scatter",
         "uid": "1b8b2d30-d674-11eb-9d36-6bf34c4607cd",
         "x": [
          1,
          2,
          3,
          4,
          5,
          6,
          7,
          8,
          9,
          10,
          11,
          12,
          13,
          14,
          15,
          16,
          17,
          18,
          19,
          20,
          21,
          22,
          23,
          24,
          25,
          26,
          27,
          28,
          29,
          30,
          31,
          32,
          33,
          34,
          35,
          36,
          37,
          38,
          39,
          40,
          41,
          42,
          43,
          44,
          45,
          46,
          47,
          48,
          49,
          50
         ],
         "xaxis": "x2",
         "y": [
          0.4800846081574758,
          0.3845432156721751,
          0.3389266370932261,
          0.3258091657956441,
          0.296943483432134,
          0.2958788859844208,
          0.2704297502040863,
          0.26419295954704286,
          0.2579678854147593,
          0.2547416520913442,
          0.2481138509909312,
          0.24414908655484518,
          0.24228930513064068,
          0.23904448850949606,
          0.24022772534688314,
          0.23177090771993,
          0.23453395628929138,
          0.2360285665988922,
          0.2288790121078491,
          0.2384245796998342,
          0.22539395554860434,
          0.22752109424273173,
          0.22804474147160847,
          0.22625237997372946,
          0.22327142429351807,
          0.22943949484825135,
          0.23132713882128397,
          0.22496303685506186,
          0.22166385022799173,
          0.22765817173322042,
          0.2184802715778351,
          0.2206259226799011,
          0.22367066486676535,
          0.2340186076958974,
          0.2201963726679484,
          0.21677192250887553,
          0.22460062583287557,
          0.22141640424728393,
          0.21455572358767191,
          0.21997780291239422,
          0.2373134523232778,
          0.21983352462450664,
          0.2164621692498525,
          0.2247784808476766,
          0.22294076561927795,
          0.22146331588427226,
          0.2267129797935486,
          0.22444241293271383,
          0.2172749029795329,
          0.21457675528526307
         ],
         "yaxis": "y2"
        }
       ],
       "layout": {
        "annotations": [
         {
          "font": {
           "size": 16
          },
          "showarrow": false,
          "text": "Training and validation accuracy",
          "x": 0.225,
          "xanchor": "center",
          "xref": "paper",
          "y": 1,
          "yanchor": "bottom",
          "yref": "paper"
         },
         {
          "font": {
           "size": 16
          },
          "showarrow": false,
          "text": "Training and validation loss",
          "x": 0.775,
          "xanchor": "center",
          "xref": "paper",
          "y": 1,
          "yanchor": "bottom",
          "yref": "paper"
         }
        ],
        "xaxis": {
         "anchor": "y",
         "domain": [
          0,
          0.45
         ],
         "title": "Epoch"
        },
        "xaxis2": {
         "anchor": "y2",
         "domain": [
          0.55,
          1
         ],
         "title": "Epoch"
        },
        "yaxis": {
         "anchor": "x",
         "domain": [
          0,
          1
         ],
         "range": [
          0,
          1
         ],
         "title": "Accuracy"
        },
        "yaxis2": {
         "anchor": "x2",
         "domain": [
          0,
          1
         ],
         "range": [
          0,
          1
         ],
         "title": "Loss"
        }
       }
      },
      "text/html": [
       "<div id=\"b6380338-c192-4d1e-9b60-d7061df6acf2\" style=\"height: 525px; width: 100%;\" class=\"plotly-graph-div\"></div><script type=\"text/javascript\">require([\"plotly\"], function(Plotly) { window.PLOTLYENV=window.PLOTLYENV || {};window.PLOTLYENV.BASE_URL=\"https://plot.ly\";Plotly.newPlot(\"b6380338-c192-4d1e-9b60-d7061df6acf2\", [{\"marker\": {\"color\": \"Green\"}, \"mode\": \"markers+lines\", \"name\": \"Training accuracy\", \"text\": [\"1\", \"2\", \"3\", \"4\", \"5\", \"6\", \"7\", \"8\", \"9\", \"10\", \"11\", \"12\", \"13\", \"14\", \"15\", \"16\", \"17\", \"18\", \"19\", \"20\", \"21\", \"22\", \"23\", \"24\", \"25\", \"26\", \"27\", \"28\", \"29\", \"30\", \"31\", \"32\", \"33\", \"34\", \"35\", \"36\", \"37\", \"38\", \"39\", \"40\", \"41\", \"42\", \"43\", \"44\", \"45\", \"46\", \"47\", \"48\", \"49\", \"50\"], \"x\": [1, 2, 3, 4, 5, 6, 7, 8, 9, 10, 11, 12, 13, 14, 15, 16, 17, 18, 19, 20, 21, 22, 23, 24, 25, 26, 27, 28, 29, 30, 31, 32, 33, 34, 35, 36, 37, 38, 39, 40, 41, 42, 43, 44, 45, 46, 47, 48, 49, 50], \"y\": [0.7134583333333333, 0.8131458333333333, 0.8469375, 0.8623958333333334, 0.87075, 0.8811875, 0.885, 0.8878125, 0.8944583333333334, 0.8953333333333333, 0.8981875, 0.9007916666666667, 0.903375, 0.9046458333333334, 0.90475, 0.9087708333333333, 0.9082708333333334, 0.9120208333333333, 0.9110833333333334, 0.9133958333333333, 0.9128125, 0.9165208333333333, 0.9157708333333333, 0.9155208333333333, 0.91725, 0.9177291666666667, 0.9197291666666667, 0.9200208333333333, 0.9194791666666666, 0.9202708333333334, 0.9223125, 0.9214375, 0.9208125, 0.9240208333333333, 0.9245, 0.9240416666666667, 0.9250208333333333, 0.924875, 0.9262083333333333, 0.9262083333333333, 0.9252291666666667, 0.9248333333333333, 0.9278958333333334, 0.9279583333333333, 0.9266875, 0.928625, 0.9286875, 0.9284375, 0.9297291666666667, 0.9297291666666667], \"type\": \"scatter\", \"uid\": \"1b8884ae-d674-11eb-9d36-6bf34c4607cd\", \"xaxis\": \"x\", \"yaxis\": \"y\"}, {\"marker\": {\"color\": \"Red\"}, \"mode\": \"markers+lines\", \"name\": \"Validation accuracy\", \"text\": [\"1\", \"2\", \"3\", \"4\", \"5\", \"6\", \"7\", \"8\", \"9\", \"10\", \"11\", \"12\", \"13\", \"14\", \"15\", \"16\", \"17\", \"18\", \"19\", \"20\", \"21\", \"22\", \"23\", \"24\", \"25\", \"26\", \"27\", \"28\", \"29\", \"30\", \"31\", \"32\", \"33\", \"34\", \"35\", \"36\", \"37\", \"38\", \"39\", \"40\", \"41\", \"42\", \"43\", \"44\", \"45\", \"46\", \"47\", \"48\", \"49\", \"50\"], \"x\": [1, 2, 3, 4, 5, 6, 7, 8, 9, 10, 11, 12, 13, 14, 15, 16, 17, 18, 19, 20, 21, 22, 23, 24, 25, 26, 27, 28, 29, 30, 31, 32, 33, 34, 35, 36, 37, 38, 39, 40, 41, 42, 43, 44, 45, 46, 47, 48, 49, 50], \"y\": [0.818916666507721, 0.859666666507721, 0.8745000001589457, 0.8849166668256124, 0.893916666507721, 0.8943333334922791, 0.9018333333333334, 0.9020000001589458, 0.9050833331743876, 0.90775, 0.9101666668256124, 0.9101666668256124, 0.9107499998410543, 0.9120833331743876, 0.9118333333333334, 0.914916666507721, 0.9144166666666667, 0.913916666507721, 0.9163333334922791, 0.9132499998410543, 0.9185833331743876, 0.9170000001589457, 0.9160833333333334, 0.9180833331743876, 0.9197499998410543, 0.9174999998410542, 0.9184166665077209, 0.9208333333333333, 0.9210000001589457, 0.917833333492279, 0.920833333492279, 0.9224166668256124, 0.92025, 0.9155833331743876, 0.92, 0.9214999998410542, 0.9196666668256124, 0.9204166668256124, 0.923083333492279, 0.9219166666666667, 0.9150833331743876, 0.9234999998410542, 0.9224166668256124, 0.9195833331743876, 0.9223333333333333, 0.923166666507721, 0.9211666668256124, 0.920083333492279, 0.92225, 0.9231666668256124], \"type\": \"scatter\", \"uid\": \"1b896c8e-d674-11eb-9d36-6bf34c4607cd\", \"xaxis\": \"x\", \"yaxis\": \"y\"}, {\"marker\": {\"color\": \"Blue\"}, \"mode\": \"markers+lines\", \"name\": \"Training loss\", \"text\": [\"1\", \"2\", \"3\", \"4\", \"5\", \"6\", \"7\", \"8\", \"9\", \"10\", \"11\", \"12\", \"13\", \"14\", \"15\", \"16\", \"17\", \"18\", \"19\", \"20\", \"21\", \"22\", \"23\", \"24\", \"25\", \"26\", \"27\", \"28\", \"29\", \"30\", \"31\", \"32\", \"33\", \"34\", \"35\", \"36\", \"37\", \"38\", \"39\", \"40\", \"41\", \"42\", \"43\", \"44\", \"45\", \"46\", \"47\", \"48\", \"49\", \"50\"], \"x\": [1, 2, 3, 4, 5, 6, 7, 8, 9, 10, 11, 12, 13, 14, 15, 16, 17, 18, 19, 20, 21, 22, 23, 24, 25, 26, 27, 28, 29, 30, 31, 32, 33, 34, 35, 36, 37, 38, 39, 40, 41, 42, 43, 44, 45, 46, 47, 48, 49, 50], \"y\": [0.7588978208700816, 0.4994614039262136, 0.4176379055182139, 0.3763961522976557, 0.3526608361800512, 0.3271320767402649, 0.31410491100947063, 0.30113923641045887, 0.2894030476808548, 0.28428554972012837, 0.2752784274419149, 0.269307609240214, 0.26016307787100473, 0.2574748133222262, 0.2550889504154523, 0.24630123205979665, 0.24718267160654067, 0.24009604710340499, 0.23829520271221796, 0.22999558625618616, 0.2302764788866043, 0.22701675899823506, 0.22285989137490592, 0.22437510085105897, 0.22016811778148015, 0.21662970703840256, 0.2151598544518153, 0.2148666255672773, 0.21084655016660692, 0.2112198012471199, 0.20654966606696445, 0.20478896697362264, 0.20942835676670074, 0.20331245410442353, 0.2029035606980324, 0.1989613275329272, 0.19985344622532528, 0.19972659556070962, 0.19785770229498545, 0.19381950809558232, 0.19444172622760136, 0.19718283881743748, 0.18999829558531442, 0.18951015277703603, 0.19354521091779073, 0.18727732666333516, 0.19012953931093216, 0.18733255660533904, 0.1856062503059705, 0.1853555419842402], \"type\": \"scatter\", \"uid\": \"1b8a4fa0-d674-11eb-9d36-6bf34c4607cd\", \"xaxis\": \"x2\", \"yaxis\": \"y2\"}, {\"marker\": {\"color\": \"Magenta\"}, \"mode\": \"markers+lines\", \"name\": \"Validation loss\", \"text\": [\"1\", \"2\", \"3\", \"4\", \"5\", \"6\", \"7\", \"8\", \"9\", \"10\", \"11\", \"12\", \"13\", \"14\", \"15\", \"16\", \"17\", \"18\", \"19\", \"20\", \"21\", \"22\", \"23\", \"24\", \"25\", \"26\", \"27\", \"28\", \"29\", \"30\", \"31\", \"32\", \"33\", \"34\", \"35\", \"36\", \"37\", \"38\", \"39\", \"40\", \"41\", \"42\", \"43\", \"44\", \"45\", \"46\", \"47\", \"48\", \"49\", \"50\"], \"x\": [1, 2, 3, 4, 5, 6, 7, 8, 9, 10, 11, 12, 13, 14, 15, 16, 17, 18, 19, 20, 21, 22, 23, 24, 25, 26, 27, 28, 29, 30, 31, 32, 33, 34, 35, 36, 37, 38, 39, 40, 41, 42, 43, 44, 45, 46, 47, 48, 49, 50], \"y\": [0.4800846081574758, 0.3845432156721751, 0.3389266370932261, 0.3258091657956441, 0.296943483432134, 0.2958788859844208, 0.2704297502040863, 0.26419295954704286, 0.2579678854147593, 0.2547416520913442, 0.2481138509909312, 0.24414908655484518, 0.24228930513064068, 0.23904448850949606, 0.24022772534688314, 0.23177090771993, 0.23453395628929138, 0.2360285665988922, 0.2288790121078491, 0.2384245796998342, 0.22539395554860434, 0.22752109424273173, 0.22804474147160847, 0.22625237997372946, 0.22327142429351807, 0.22943949484825135, 0.23132713882128397, 0.22496303685506186, 0.22166385022799173, 0.22765817173322042, 0.2184802715778351, 0.2206259226799011, 0.22367066486676535, 0.2340186076958974, 0.2201963726679484, 0.21677192250887553, 0.22460062583287557, 0.22141640424728393, 0.21455572358767191, 0.21997780291239422, 0.2373134523232778, 0.21983352462450664, 0.2164621692498525, 0.2247784808476766, 0.22294076561927795, 0.22146331588427226, 0.2267129797935486, 0.22444241293271383, 0.2172749029795329, 0.21457675528526307], \"type\": \"scatter\", \"uid\": \"1b8b2d30-d674-11eb-9d36-6bf34c4607cd\", \"xaxis\": \"x2\", \"yaxis\": \"y2\"}], {\"annotations\": [{\"font\": {\"size\": 16}, \"showarrow\": false, \"text\": \"Training and validation accuracy\", \"x\": 0.225, \"xanchor\": \"center\", \"xref\": \"paper\", \"y\": 1.0, \"yanchor\": \"bottom\", \"yref\": \"paper\"}, {\"font\": {\"size\": 16}, \"showarrow\": false, \"text\": \"Training and validation loss\", \"x\": 0.775, \"xanchor\": \"center\", \"xref\": \"paper\", \"y\": 1.0, \"yanchor\": \"bottom\", \"yref\": \"paper\"}], \"xaxis\": {\"anchor\": \"y\", \"domain\": [0.0, 0.45], \"title\": \"Epoch\"}, \"yaxis\": {\"anchor\": \"x\", \"domain\": [0.0, 1.0], \"title\": \"Accuracy\", \"range\": [0, 1]}, \"xaxis2\": {\"anchor\": \"y2\", \"domain\": [0.55, 1.0], \"title\": \"Epoch\"}, \"yaxis2\": {\"anchor\": \"x2\", \"domain\": [0.0, 1.0], \"title\": \"Loss\", \"range\": [0, 1]}}, {\"showLink\": true, \"linkText\": \"Export to plot.ly\"})});</script>"
      ],
      "text/vnd.plotly.v1+html": [
       "<div id=\"b6380338-c192-4d1e-9b60-d7061df6acf2\" style=\"height: 525px; width: 100%;\" class=\"plotly-graph-div\"></div><script type=\"text/javascript\">require([\"plotly\"], function(Plotly) { window.PLOTLYENV=window.PLOTLYENV || {};window.PLOTLYENV.BASE_URL=\"https://plot.ly\";Plotly.newPlot(\"b6380338-c192-4d1e-9b60-d7061df6acf2\", [{\"marker\": {\"color\": \"Green\"}, \"mode\": \"markers+lines\", \"name\": \"Training accuracy\", \"text\": [\"1\", \"2\", \"3\", \"4\", \"5\", \"6\", \"7\", \"8\", \"9\", \"10\", \"11\", \"12\", \"13\", \"14\", \"15\", \"16\", \"17\", \"18\", \"19\", \"20\", \"21\", \"22\", \"23\", \"24\", \"25\", \"26\", \"27\", \"28\", \"29\", \"30\", \"31\", \"32\", \"33\", \"34\", \"35\", \"36\", \"37\", \"38\", \"39\", \"40\", \"41\", \"42\", \"43\", \"44\", \"45\", \"46\", \"47\", \"48\", \"49\", \"50\"], \"x\": [1, 2, 3, 4, 5, 6, 7, 8, 9, 10, 11, 12, 13, 14, 15, 16, 17, 18, 19, 20, 21, 22, 23, 24, 25, 26, 27, 28, 29, 30, 31, 32, 33, 34, 35, 36, 37, 38, 39, 40, 41, 42, 43, 44, 45, 46, 47, 48, 49, 50], \"y\": [0.7134583333333333, 0.8131458333333333, 0.8469375, 0.8623958333333334, 0.87075, 0.8811875, 0.885, 0.8878125, 0.8944583333333334, 0.8953333333333333, 0.8981875, 0.9007916666666667, 0.903375, 0.9046458333333334, 0.90475, 0.9087708333333333, 0.9082708333333334, 0.9120208333333333, 0.9110833333333334, 0.9133958333333333, 0.9128125, 0.9165208333333333, 0.9157708333333333, 0.9155208333333333, 0.91725, 0.9177291666666667, 0.9197291666666667, 0.9200208333333333, 0.9194791666666666, 0.9202708333333334, 0.9223125, 0.9214375, 0.9208125, 0.9240208333333333, 0.9245, 0.9240416666666667, 0.9250208333333333, 0.924875, 0.9262083333333333, 0.9262083333333333, 0.9252291666666667, 0.9248333333333333, 0.9278958333333334, 0.9279583333333333, 0.9266875, 0.928625, 0.9286875, 0.9284375, 0.9297291666666667, 0.9297291666666667], \"type\": \"scatter\", \"uid\": \"1b8884ae-d674-11eb-9d36-6bf34c4607cd\", \"xaxis\": \"x\", \"yaxis\": \"y\"}, {\"marker\": {\"color\": \"Red\"}, \"mode\": \"markers+lines\", \"name\": \"Validation accuracy\", \"text\": [\"1\", \"2\", \"3\", \"4\", \"5\", \"6\", \"7\", \"8\", \"9\", \"10\", \"11\", \"12\", \"13\", \"14\", \"15\", \"16\", \"17\", \"18\", \"19\", \"20\", \"21\", \"22\", \"23\", \"24\", \"25\", \"26\", \"27\", \"28\", \"29\", \"30\", \"31\", \"32\", \"33\", \"34\", \"35\", \"36\", \"37\", \"38\", \"39\", \"40\", \"41\", \"42\", \"43\", \"44\", \"45\", \"46\", \"47\", \"48\", \"49\", \"50\"], \"x\": [1, 2, 3, 4, 5, 6, 7, 8, 9, 10, 11, 12, 13, 14, 15, 16, 17, 18, 19, 20, 21, 22, 23, 24, 25, 26, 27, 28, 29, 30, 31, 32, 33, 34, 35, 36, 37, 38, 39, 40, 41, 42, 43, 44, 45, 46, 47, 48, 49, 50], \"y\": [0.818916666507721, 0.859666666507721, 0.8745000001589457, 0.8849166668256124, 0.893916666507721, 0.8943333334922791, 0.9018333333333334, 0.9020000001589458, 0.9050833331743876, 0.90775, 0.9101666668256124, 0.9101666668256124, 0.9107499998410543, 0.9120833331743876, 0.9118333333333334, 0.914916666507721, 0.9144166666666667, 0.913916666507721, 0.9163333334922791, 0.9132499998410543, 0.9185833331743876, 0.9170000001589457, 0.9160833333333334, 0.9180833331743876, 0.9197499998410543, 0.9174999998410542, 0.9184166665077209, 0.9208333333333333, 0.9210000001589457, 0.917833333492279, 0.920833333492279, 0.9224166668256124, 0.92025, 0.9155833331743876, 0.92, 0.9214999998410542, 0.9196666668256124, 0.9204166668256124, 0.923083333492279, 0.9219166666666667, 0.9150833331743876, 0.9234999998410542, 0.9224166668256124, 0.9195833331743876, 0.9223333333333333, 0.923166666507721, 0.9211666668256124, 0.920083333492279, 0.92225, 0.9231666668256124], \"type\": \"scatter\", \"uid\": \"1b896c8e-d674-11eb-9d36-6bf34c4607cd\", \"xaxis\": \"x\", \"yaxis\": \"y\"}, {\"marker\": {\"color\": \"Blue\"}, \"mode\": \"markers+lines\", \"name\": \"Training loss\", \"text\": [\"1\", \"2\", \"3\", \"4\", \"5\", \"6\", \"7\", \"8\", \"9\", \"10\", \"11\", \"12\", \"13\", \"14\", \"15\", \"16\", \"17\", \"18\", \"19\", \"20\", \"21\", \"22\", \"23\", \"24\", \"25\", \"26\", \"27\", \"28\", \"29\", \"30\", \"31\", \"32\", \"33\", \"34\", \"35\", \"36\", \"37\", \"38\", \"39\", \"40\", \"41\", \"42\", \"43\", \"44\", \"45\", \"46\", \"47\", \"48\", \"49\", \"50\"], \"x\": [1, 2, 3, 4, 5, 6, 7, 8, 9, 10, 11, 12, 13, 14, 15, 16, 17, 18, 19, 20, 21, 22, 23, 24, 25, 26, 27, 28, 29, 30, 31, 32, 33, 34, 35, 36, 37, 38, 39, 40, 41, 42, 43, 44, 45, 46, 47, 48, 49, 50], \"y\": [0.7588978208700816, 0.4994614039262136, 0.4176379055182139, 0.3763961522976557, 0.3526608361800512, 0.3271320767402649, 0.31410491100947063, 0.30113923641045887, 0.2894030476808548, 0.28428554972012837, 0.2752784274419149, 0.269307609240214, 0.26016307787100473, 0.2574748133222262, 0.2550889504154523, 0.24630123205979665, 0.24718267160654067, 0.24009604710340499, 0.23829520271221796, 0.22999558625618616, 0.2302764788866043, 0.22701675899823506, 0.22285989137490592, 0.22437510085105897, 0.22016811778148015, 0.21662970703840256, 0.2151598544518153, 0.2148666255672773, 0.21084655016660692, 0.2112198012471199, 0.20654966606696445, 0.20478896697362264, 0.20942835676670074, 0.20331245410442353, 0.2029035606980324, 0.1989613275329272, 0.19985344622532528, 0.19972659556070962, 0.19785770229498545, 0.19381950809558232, 0.19444172622760136, 0.19718283881743748, 0.18999829558531442, 0.18951015277703603, 0.19354521091779073, 0.18727732666333516, 0.19012953931093216, 0.18733255660533904, 0.1856062503059705, 0.1853555419842402], \"type\": \"scatter\", \"uid\": \"1b8a4fa0-d674-11eb-9d36-6bf34c4607cd\", \"xaxis\": \"x2\", \"yaxis\": \"y2\"}, {\"marker\": {\"color\": \"Magenta\"}, \"mode\": \"markers+lines\", \"name\": \"Validation loss\", \"text\": [\"1\", \"2\", \"3\", \"4\", \"5\", \"6\", \"7\", \"8\", \"9\", \"10\", \"11\", \"12\", \"13\", \"14\", \"15\", \"16\", \"17\", \"18\", \"19\", \"20\", \"21\", \"22\", \"23\", \"24\", \"25\", \"26\", \"27\", \"28\", \"29\", \"30\", \"31\", \"32\", \"33\", \"34\", \"35\", \"36\", \"37\", \"38\", \"39\", \"40\", \"41\", \"42\", \"43\", \"44\", \"45\", \"46\", \"47\", \"48\", \"49\", \"50\"], \"x\": [1, 2, 3, 4, 5, 6, 7, 8, 9, 10, 11, 12, 13, 14, 15, 16, 17, 18, 19, 20, 21, 22, 23, 24, 25, 26, 27, 28, 29, 30, 31, 32, 33, 34, 35, 36, 37, 38, 39, 40, 41, 42, 43, 44, 45, 46, 47, 48, 49, 50], \"y\": [0.4800846081574758, 0.3845432156721751, 0.3389266370932261, 0.3258091657956441, 0.296943483432134, 0.2958788859844208, 0.2704297502040863, 0.26419295954704286, 0.2579678854147593, 0.2547416520913442, 0.2481138509909312, 0.24414908655484518, 0.24228930513064068, 0.23904448850949606, 0.24022772534688314, 0.23177090771993, 0.23453395628929138, 0.2360285665988922, 0.2288790121078491, 0.2384245796998342, 0.22539395554860434, 0.22752109424273173, 0.22804474147160847, 0.22625237997372946, 0.22327142429351807, 0.22943949484825135, 0.23132713882128397, 0.22496303685506186, 0.22166385022799173, 0.22765817173322042, 0.2184802715778351, 0.2206259226799011, 0.22367066486676535, 0.2340186076958974, 0.2201963726679484, 0.21677192250887553, 0.22460062583287557, 0.22141640424728393, 0.21455572358767191, 0.21997780291239422, 0.2373134523232778, 0.21983352462450664, 0.2164621692498525, 0.2247784808476766, 0.22294076561927795, 0.22146331588427226, 0.2267129797935486, 0.22444241293271383, 0.2172749029795329, 0.21457675528526307], \"type\": \"scatter\", \"uid\": \"1b8b2d30-d674-11eb-9d36-6bf34c4607cd\", \"xaxis\": \"x2\", \"yaxis\": \"y2\"}], {\"annotations\": [{\"font\": {\"size\": 16}, \"showarrow\": false, \"text\": \"Training and validation accuracy\", \"x\": 0.225, \"xanchor\": \"center\", \"xref\": \"paper\", \"y\": 1.0, \"yanchor\": \"bottom\", \"yref\": \"paper\"}, {\"font\": {\"size\": 16}, \"showarrow\": false, \"text\": \"Training and validation loss\", \"x\": 0.775, \"xanchor\": \"center\", \"xref\": \"paper\", \"y\": 1.0, \"yanchor\": \"bottom\", \"yref\": \"paper\"}], \"xaxis\": {\"anchor\": \"y\", \"domain\": [0.0, 0.45], \"title\": \"Epoch\"}, \"yaxis\": {\"anchor\": \"x\", \"domain\": [0.0, 1.0], \"title\": \"Accuracy\", \"range\": [0, 1]}, \"xaxis2\": {\"anchor\": \"y2\", \"domain\": [0.55, 1.0], \"title\": \"Epoch\"}, \"yaxis2\": {\"anchor\": \"x2\", \"domain\": [0.0, 1.0], \"title\": \"Loss\", \"range\": [0, 1]}}, {\"showLink\": true, \"linkText\": \"Export to plot.ly\"})});</script>"
      ]
     },
     "metadata": {},
     "output_type": "display_data"
    }
   ],
   "source": [
    "plot_accuracy_and_loss(train_model)"
   ]
  },
  {
   "cell_type": "markdown",
   "metadata": {
    "_uuid": "f201d6925f70ad2420b3ee7e3a204cdc77f86723"
   },
   "source": [
    "After adding the Dropout layers, the validation accuracy and validation loss are much better. Let's check now the prediction for the test set.\n",
    "\n",
    "\n",
    "## <a id=\"58\">Prediction accuracy with the new model</a>\n",
    "\n",
    "Let's re-evaluate the test prediction accuracy with the new model."
   ]
  },
  {
   "cell_type": "code",
   "execution_count": 29,
   "metadata": {
    "_uuid": "d8e9293e99e34010bd456af7435c4cc7ccebdefd"
   },
   "outputs": [
    {
     "name": "stdout",
     "output_type": "stream",
     "text": [
      "Test loss: 0.20247195200026036\n",
      "Test accuracy: 0.9294\n"
     ]
    }
   ],
   "source": [
    "score = model.evaluate(X_test, y_test, verbose=0)\n",
    "print('Test loss:', score[0])\n",
    "print('Test accuracy:', score[1])"
   ]
  },
  {
   "cell_type": "markdown",
   "metadata": {
    "_uuid": "572baa4ad0f12f490337137f7f9fb56a8a9a48c6"
   },
   "source": [
    "Also the test accuracy improved. The test accuracy is now approximately 0.93."
   ]
  },
  {
   "cell_type": "code",
   "execution_count": 30,
   "metadata": {
    "_uuid": "e519f82cc29b0dd8c5145d612da3eb496e2b321d"
   },
   "outputs": [],
   "source": [
    "#get the predictions for the test data\n",
    "predicted_classes = model.predict_classes(X_test)\n",
    "#get the indices to be plotted\n",
    "y_true = test_data.iloc[:, 0]"
   ]
  },
  {
   "cell_type": "code",
   "execution_count": 31,
   "metadata": {
    "_uuid": "d5989dd811570fe73b1f6b0715b06c428e578669"
   },
   "outputs": [],
   "source": [
    "p = predicted_classes[:10000]\n",
    "y = y_true[:10000]\n",
    "correct = np.nonzero(p==y)[0]\n",
    "incorrect = np.nonzero(p!=y)[0]"
   ]
  },
  {
   "cell_type": "code",
   "execution_count": 32,
   "metadata": {
    "_uuid": "46acb309f135a4082b4e1cd9b98a613b888f7c7e"
   },
   "outputs": [
    {
     "name": "stdout",
     "output_type": "stream",
     "text": [
      "Correct predicted classes: 9294\n",
      "Incorrect predicted classes: 706\n"
     ]
    }
   ],
   "source": [
    "print(\"Correct predicted classes:\",correct.shape[0])\n",
    "print(\"Incorrect predicted classes:\",incorrect.shape[0])"
   ]
  },
  {
   "cell_type": "code",
   "execution_count": 33,
   "metadata": {
    "_uuid": "bc3bfd05450aaee55c9e5edc7fb84d884c1d3e0b"
   },
   "outputs": [
    {
     "name": "stdout",
     "output_type": "stream",
     "text": [
      "                         precision    recall  f1-score   support\n",
      "\n",
      "Class 0 (T-shirt/top) :       0.88      0.88      0.88      1000\n",
      "    Class 1 (Trouser) :       0.99      0.99      0.99      1000\n",
      "   Class 2 (Pullover) :       0.91      0.88      0.89      1000\n",
      "      Class 3 (Dress) :       0.93      0.93      0.93      1000\n",
      "       Class 4 (Coat) :       0.88      0.90      0.89      1000\n",
      "     Class 5 (Sandal) :       0.99      0.98      0.98      1000\n",
      "      Class 6 (Shirt) :       0.79      0.80      0.80      1000\n",
      "    Class 7 (Sneaker) :       0.97      0.96      0.96      1000\n",
      "        Class 8 (Bag) :       0.99      0.99      0.99      1000\n",
      " Class 9 (Ankle Boot) :       0.96      0.98      0.97      1000\n",
      "\n",
      "            avg / total       0.93      0.93      0.93     10000\n",
      "\n"
     ]
    }
   ],
   "source": [
    "target_names = [\"Class {} ({}) :\".format(i,labels[i]) for i in range(NUM_CLASSES)]\n",
    "print(classification_report(y_true, predicted_classes, target_names=target_names))"
   ]
  },
  {
   "cell_type": "markdown",
   "metadata": {
    "_uuid": "4b0b88588bd3afed148a3c696d997aea4a6c564a"
   },
   "source": [
    "\n",
    "The best accuracy is obtained for Class 1, Class 5, Class 8, Class 9  and Class 7. Worst accuracy is for Class 6.   \n",
    "\n",
    "The recall is highest for Class 8, Class 5 and smallest for Class 6 and Class 4.    \n",
    "\n",
    "f1-score is highest for Class 1, Class 5 and Class 8 and smallest for Class 6 followed by Class 4 and Class 2.  \n",
    "\n",
    "Let's also inspect some of the images. We created two subsets of the predicted images set, correctly and incorrectly classified."
   ]
  },
  {
   "cell_type": "markdown",
   "metadata": {
    "_uuid": "614afbc7ed760856cf9b47f879334902d1b6545b"
   },
   "source": [
    "# <a id=\"6\">Visualize classified images</a>\n",
    "\n",
    "## <a id=\"61\">Correctly classified images</a>\n",
    "\n",
    "\n",
    "We visualize few images correctly classified."
   ]
  },
  {
   "cell_type": "code",
   "execution_count": 34,
   "metadata": {
    "_uuid": "e64edf6e7ae3146eafe8da01f4dbc4e05c8bc1ce",
    "collapsed": true,
    "jupyter": {
     "outputs_hidden": true
    }
   },
   "outputs": [
    {
     "data": {
      "image/png": "[encoded data removed]",
      "text/plain": [
       "<Figure size 1080x1080 with 16 Axes>"
      ]
     },
     "metadata": {
      "needs_background": "light"
     },
     "output_type": "display_data"
    }
   ],
   "source": [
    "def plot_images(data_index,cmap=\"Blues\"):\n",
    "    # Plot the sample images now\n",
    "    f, ax = plt.subplots(4,4, figsize=(15,15))\n",
    "\n",
    "    for i, indx in enumerate(data_index[:16]):\n",
    "        ax[i//4, i%4].imshow(X_test[indx].reshape(IMG_ROWS,IMG_COLS), cmap=cmap)\n",
    "        ax[i//4, i%4].axis('off')\n",
    "        ax[i//4, i%4].set_title(\"True:{}  Pred:{}\".format(labels[y_true[indx]],labels[predicted_classes[indx]]))\n",
    "    plt.show()    \n",
    "    \n",
    "plot_images(correct, \"Greens\")"
   ]
  },
  {
   "cell_type": "markdown",
   "metadata": {
    "_uuid": "3c7bb1b300a4530d2fa418eb56258a54587e3b90"
   },
   "source": [
    "## <a id=\"62\">Incorrectly classified images</a>\n",
    "\n",
    "Let's see also few images incorrectly classified."
   ]
  },
  {
   "cell_type": "code",
   "execution_count": 35,
   "metadata": {
    "_uuid": "18b2843f6f8542cd95d0847617e84e959996341b",
    "collapsed": true,
    "jupyter": {
     "outputs_hidden": true
    }
   },
   "outputs": [
    {
     "data": {
      "image/png": "[encoded data removed]",
      "text/plain": [
       "<Figure size 1080x1080 with 16 Axes>"
      ]
     },
     "metadata": {
      "needs_background": "light"
     },
     "output_type": "display_data"
    }
   ],
   "source": [
    "plot_images(incorrect, \"Reds\")"
   ]
  },
  {
   "cell_type": "markdown",
   "metadata": {
    "_uuid": "e24053db4dbfec25fd1b90391586d7ce6bc32988"
   },
   "source": [
    "# <a id=\"7\">Conclusions</a>\n",
    "\n",
    "With a complex sequential model with multiple convolution layers and 50 epochs for the training, we obtained an accuracy ~0.91 for test prediction.\n",
    "After investigating the validation accuracy and loss, we understood that the model is overfitting.   \n",
    "We retrained the model with Dropout layers to the model to reduce overfitting.  \n",
    "We confirmed the model improvement and with the same number of epochs for the training we obtained with the new model an accuracy of ~0.93 for test prediction. Only few classes are not correctly classified all the time, especially Class 6 (Shirt) and Class 2 (Pullover)."
   ]
  }
 ],
 "metadata": {
  "kernelspec": {
   "display_name": "Python 3",
   "language": "python",
   "name": "python3"
  },
  "language_info": {
   "codemirror_mode": {
    "name": "ipython",
    "version": 3
   },
   "file_extension": ".py",
   "mimetype": "text/x-python",
   "name": "python",
   "nbconvert_exporter": "python",
   "pygments_lexer": "ipython3",
   "version": "3.6.6"
  }
 },
 "nbformat": 4,
 "nbformat_minor": 4
}
